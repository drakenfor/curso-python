{
 "cells": [
  {
   "cell_type": "code",
   "execution_count": null,
   "metadata": {},
   "outputs": [],
   "source": [
    "import mining\n",
    "\n",
    "a = input('Ingrese su primer numero: ')\n",
    "b = input('Ingrese su segundo numero: ')\n",
    "\n",
    "respuesta = mining.suma_cuadrado(int(a), int(b))\n",
    "\n",
    "print(respuesta)"
   ]
  }
 ],
 "metadata": {
  "kernelspec": {
   "display_name": "Python 3.10.5 64-bit",
   "language": "python",
   "name": "python3"
  },
  "language_info": {
   "codemirror_mode": {
    "name": "ipython",
    "version": 3
   },
   "file_extension": ".py",
   "mimetype": "text/x-python",
   "name": "python",
   "nbconvert_exporter": "python",
   "pygments_lexer": "ipython3",
   "version": "3.10.5"
  },
  "orig_nbformat": 4,
  "vscode": {
   "interpreter": {
    "hash": "58cf9e7d7d5f82f5e504d33a7477d8f1af104107c35b27fedcee268f33f69822"
   }
  }
 },
 "nbformat": 4,
 "nbformat_minor": 2
}
