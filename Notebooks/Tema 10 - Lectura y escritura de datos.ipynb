{
 "cells": [
  {
   "cell_type": "code",
   "execution_count": null,
   "metadata": {},
   "outputs": [],
   "source": [
    "# importar la lectura\n",
    "import pandas as pd\n",
    "import numpy as np"
   ]
  },
  {
   "cell_type": "code",
   "execution_count": null,
   "metadata": {},
   "outputs": [],
   "source": [
    "# Leer una archivo\n",
    "# df abrebiatura de dataframe\n",
    "df = pd.read_csv('data/datos.csv')\n",
    "df"
   ]
  },
  {
   "cell_type": "code",
   "execution_count": null,
   "metadata": {},
   "outputs": [],
   "source": [
    "# Leer datos con separador difernete\n",
    "df_coma = pd.read_csv('data/dataexe.csv', sep=\";\")\n",
    "df_coma"
   ]
  },
  {
   "cell_type": "code",
   "execution_count": null,
   "metadata": {},
   "outputs": [],
   "source": [
    "# Cuanto suman sus edades\n"
   ]
  },
  {
   "cell_type": "code",
   "execution_count": null,
   "metadata": {},
   "outputs": [],
   "source": [
    "## Creando data frames\n",
    "personas = {\n",
    "    'Nombre': ['Juan'],\n",
    "    'Edad': [23],\n",
    "    'Sexo': [True]\n",
    "}\n",
    "\n",
    "df = pd.DataFrame(personas)\n",
    "df\n"
   ]
  },
  {
   "cell_type": "code",
   "execution_count": null,
   "metadata": {},
   "outputs": [],
   "source": [
    "\n",
    "\n",
    "df = pd.DataFrame({\n",
    "            'Productivity': [\n",
    "                'Balance of shift available, (h)',\n",
    "                'Rows drilled out',\n",
    "                'Meters drilled per shift, (m)',\n",
    "                'Meters drilled per working day, (m)',\n",
    "                'Meters drilled per month, (m)',\n",
    "                'Metrics tons per shift, (tn)',\n",
    "                'Metrics tons per working day, (tn)',\n",
    "                'Metrics tons per month, (tn)'\n",
    "            ],\n",
    "            'Measure': [\n",
    "                1, 2, 3, 4, 5, 6, 7, 8\n",
    "            ]       \n",
    "        }\n",
    "    )\n",
    "\n",
    "with pd.ExcelWriter('data/mydata.xlsx', engine='openpyxl') as writer:\n",
    "    df.to_excel(writer, index=False)\n",
    "\n",
    "df.to_csv('data/mydata.csv', index=False, sep=';')\n"
   ]
  },
  {
   "cell_type": "code",
   "execution_count": null,
   "metadata": {},
   "outputs": [],
   "source": []
  }
 ],
 "metadata": {
  "kernelspec": {
   "display_name": "Python 3.10.5 64-bit",
   "language": "python",
   "name": "python3"
  },
  "language_info": {
   "codemirror_mode": {
    "name": "ipython",
    "version": 3
   },
   "file_extension": ".py",
   "mimetype": "text/x-python",
   "name": "python",
   "nbconvert_exporter": "python",
   "pygments_lexer": "ipython3",
   "version": "3.10.5"
  },
  "orig_nbformat": 4,
  "vscode": {
   "interpreter": {
    "hash": "3b9e2c1c1886a70341260ccdb5dca7eda20d5b2d2b81ccdfd5c7d91942664b3a"
   }
  }
 },
 "nbformat": 4,
 "nbformat_minor": 2
}
