{
 "metadata": {
  "language_info": {
   "codemirror_mode": {
    "name": "ipython",
    "version": 3
   },
   "file_extension": ".py",
   "mimetype": "text/x-python",
   "name": "python",
   "nbconvert_exporter": "python",
   "pygments_lexer": "ipython3",
   "version": "3.8.3-final"
  },
  "orig_nbformat": 2,
  "kernelspec": {
   "name": "python3",
   "display_name": "Python 3"
  }
 },
 "nbformat": 4,
 "nbformat_minor": 2,
 "cells": [
  {
   "source": [
    "$4x^2 + 2x +1 = 0$"
   ],
   "cell_type": "markdown",
   "metadata": {}
  },
  {
   "cell_type": "code",
   "execution_count": 19,
   "metadata": {},
   "outputs": [
    {
     "output_type": "stream",
     "name": "stdout",
     "text": [
      "0\nLa solución es x =  1.0\n"
     ]
    }
   ],
   "source": [
    "a = 1\n",
    "b = -2\n",
    "c = 1\n",
    "\n",
    "dis = b**2 - 4*a*c\n",
    "print(dis)\n",
    "\n",
    "if dis >= 0:\n",
    "    if dis == 0:\n",
    "        x = (-b + (b**2 - 4*a*c)**0.5) / (2*a)\n",
    "        print('La solución es x = ', x )\n",
    "    else:\n",
    "        x1 = (-b + (b**2 - 4*a*c)**0.5) / (2*a)\n",
    "        x2 = (-b - (b**2 - 4*a*c)**0.5) / (2*a)\n",
    "\n",
    "        print('Una solucion es x1 = ', x1)\n",
    "        print('La otra solucion es x2 = ', x2)\n",
    "else: \n",
    "    print('No tiene solucion en los reales')"
   ]
  },
  {
   "cell_type": "code",
   "execution_count": null,
   "metadata": {},
   "outputs": [],
   "source": []
  }
 ]
}