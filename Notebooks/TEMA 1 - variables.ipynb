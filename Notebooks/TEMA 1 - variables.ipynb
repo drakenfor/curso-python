{
 "cells": [
  {
   "cell_type": "markdown",
   "metadata": {},
   "source": [
    "# TEMA 1: Variables"
   ]
  },
  {
   "cell_type": "markdown",
   "metadata": {},
   "source": [
    "# I. Datos Primitivos "
   ]
  },
  {
   "cell_type": "markdown",
   "metadata": {},
   "source": [
    "## 1. Strings (str)\n",
    "Son cades de caracteres"
   ]
  },
  {
   "cell_type": "code",
   "execution_count": 253,
   "metadata": {},
   "outputs": [],
   "source": [
    "#Declarando mis strings\n",
    "mi_string = 'Mi primer strig'\n",
    "mi_string_numero = '1'\n",
    "\n",
    "nombre = 'Juanita'\n",
    "apellido = 'Perez'"
   ]
  },
  {
   "cell_type": "markdown",
   "metadata": {},
   "source": [
    "### 1.1 Imprimir Strings"
   ]
  },
  {
   "cell_type": "code",
   "execution_count": 254,
   "metadata": {},
   "outputs": [
    {
     "name": "stdout",
     "output_type": "stream",
     "text": [
      "Mi primer strig\n",
      "1\n",
      "Juanita Perez\n",
      "Juanita, Perez!"
     ]
    }
   ],
   "source": [
    "print(mi_string)\n",
    "print(mi_string_numero)\n",
    "\n",
    "print(nombre, apellido)\n",
    "print(nombre, apellido, sep=', ', end='!')\n"
   ]
  },
  {
   "cell_type": "markdown",
   "metadata": {},
   "source": [
    "### 1.2  Concatener strings\n",
    "(sumar strings)"
   ]
  },
  {
   "cell_type": "code",
   "execution_count": 255,
   "metadata": {},
   "outputs": [
    {
     "name": "stdout",
     "output_type": "stream",
     "text": [
      "Juanito Juan!\n"
     ]
    }
   ],
   "source": [
    "nombre = 'Juanito'\n",
    "apellido = 'Juan'\n",
    "nombre_completo = nombre + ' ' + apellido + '!'\n",
    "print(nombre_completo)\n"
   ]
  },
  {
   "cell_type": "markdown",
   "metadata": {},
   "source": [
    "## 2. Enteros (int)"
   ]
  },
  {
   "cell_type": "code",
   "execution_count": 256,
   "metadata": {},
   "outputs": [],
   "source": [
    "# Declarando tipos de datos enteros\n",
    "num1 = 6\n",
    "num2 = 8"
   ]
  },
  {
   "cell_type": "markdown",
   "metadata": {},
   "source": [
    "### 2.1 Operaciones aritmeticas"
   ]
  },
  {
   "cell_type": "code",
   "execution_count": 257,
   "metadata": {},
   "outputs": [
    {
     "name": "stdout",
     "output_type": "stream",
     "text": [
      "14\n",
      "-2\n",
      "48\n",
      "0.75\n",
      "16\n",
      "3.0\n"
     ]
    }
   ],
   "source": [
    "# Suma\n",
    "resultado = num1 + num2\n",
    "print(resultado)\n",
    "\n",
    "# resta\n",
    "resultado = num1 - num2\n",
    "print(resultado)\n",
    "\n",
    "# Multiplicar\n",
    "resultado = num1 * num2\n",
    "print(resultado)\n",
    "\n",
    "# dividir\n",
    "resultado = num1 / num2\n",
    "print(resultado)\n",
    "\n",
    "#Potencia\n",
    "resultado = 2 ** 4\n",
    "print(resultado)\n",
    "\n",
    "#Raiz\n",
    "resultado = 9 ** 0.5\n",
    "print(resultado)\n"
   ]
  },
  {
   "cell_type": "markdown",
   "metadata": {},
   "source": [
    "## 3. Floats (float)\n",
    "Son variables de tipo decimal o que pertenecen a los reales"
   ]
  },
  {
   "cell_type": "code",
   "execution_count": 258,
   "metadata": {},
   "outputs": [],
   "source": [
    "# Declarando desimales\n",
    "decimal1 = 3.5\n",
    "decimal2 = 4.6"
   ]
  },
  {
   "cell_type": "markdown",
   "metadata": {},
   "source": [
    "### 3.1 Operaciones aritmitas\n",
    "(Tarea: hacer lo de enteros) "
   ]
  },
  {
   "cell_type": "markdown",
   "metadata": {},
   "source": [
    "### 3.2 Redondeo"
   ]
  },
  {
   "cell_type": "code",
   "execution_count": 259,
   "metadata": {},
   "outputs": [
    {
     "name": "stdout",
     "output_type": "stream",
     "text": [
      "1.414\n",
      "1.4142\n"
     ]
    }
   ],
   "source": [
    "numero = 2 ** 0.5\n",
    "numero_redondeado = round(numero, 3)\n",
    "print(numero_redondeado)\n",
    "\n",
    "# Si quiero que el numero redondeado se guarde en la misma variable\n",
    "numero = round(numero, 4)\n",
    "print(numero)"
   ]
  },
  {
   "cell_type": "markdown",
   "metadata": {},
   "source": [
    "## 4. Booleanos (bool)"
   ]
  },
  {
   "cell_type": "code",
   "execution_count": 260,
   "metadata": {},
   "outputs": [],
   "source": [
    "# Declarando variables de tipo bool\n",
    "bool1 = False\n",
    "bool2 = True\n",
    "\n",
    "p = True\n",
    "q = False\n",
    "r = True"
   ]
  },
  {
   "cell_type": "markdown",
   "metadata": {},
   "source": [
    "### 4.1 Operaciones lógicas"
   ]
  },
  {
   "cell_type": "code",
   "execution_count": 261,
   "metadata": {},
   "outputs": [
    {
     "name": "stdout",
     "output_type": "stream",
     "text": [
      "True\n",
      "False\n",
      "False\n",
      "True\n",
      "False\n",
      "True\n"
     ]
    }
   ],
   "source": [
    "# O (or)\n",
    "print(bool1 or bool2)\n",
    "print( False or False )\n",
    "\n",
    "# Y (and)\n",
    "print( bool1 and bool2 )\n",
    "print ( True and True )\n",
    "\n",
    "# Anidando\n",
    "print( p and q and r )\n",
    "print( p and q or r )"
   ]
  },
  {
   "cell_type": "markdown",
   "metadata": {},
   "source": [
    "### Tarea: probar lo siguiente\n",
    "* Operador de comparación == \n",
    "* Operador mayor que >\n",
    "* Operador menor que <\n",
    "* Operador mayor igual que => \n",
    "* Operador menor igual que <= \n",
    "* Operador difernte que != \n",
    "* Operador modulo % , me calcula el residuo\n",
    "\n",
    "Recuara que no neseariamente tiene que ser datos de tipo Bool"
   ]
  },
  {
   "cell_type": "code",
   "execution_count": 262,
   "metadata": {},
   "outputs": [
    {
     "name": "stdout",
     "output_type": "stream",
     "text": [
      "5 es igual 5: True\n",
      "5 != 5: False\n",
      "5 > 5: False\n",
      "6 es mayor o igual que 5: True\n",
      "8 % 5: 3\n"
     ]
    }
   ],
   "source": [
    "print('5 es igual 5:', 5 == 5)\n",
    "print('5 != 5:', 5 != 5)\n",
    "print('5 > 5:', 5 > 5)\n",
    "print('6 es mayor o igual que 5:', 6 >= 5)\n",
    "\n",
    "print('8 % 5:', 8 % 5)"
   ]
  },
  {
   "cell_type": "markdown",
   "metadata": {},
   "source": [
    "### Tipo de dato de una variable"
   ]
  },
  {
   "cell_type": "code",
   "execution_count": 263,
   "metadata": {},
   "outputs": [
    {
     "name": "stdout",
     "output_type": "stream",
     "text": [
      "El tipo de dato de nombre es:  <class 'str'>\n",
      "El tipo de dato de edad es:  <class 'int'>\n",
      "El tipo de dato de talla es:  <class 'float'>\n",
      "El tipo de dato de genero es:  <class 'bool'>\n",
      "La cantidad de caracters de nombre es: 7\n"
     ]
    }
   ],
   "source": [
    "nombre = 'Juanita'\n",
    "edad = 30\n",
    "talla = 165.22 # cm\n",
    "genero = False # True: varon; False: mujer\n",
    "\n",
    "print('El tipo de dato de nombre es: ', type(nombre))\n",
    "print('El tipo de dato de edad es: ', type(edad))\n",
    "print('El tipo de dato de talla es: ', type(talla))\n",
    "print('El tipo de dato de genero es: ', type(genero))\n",
    "\n",
    "print('La cantidad de caracters de nombre es:', len(nombre))"
   ]
  },
  {
   "cell_type": "markdown",
   "metadata": {},
   "source": [
    "# II. Datos estructurados\n",
    "Son conjuntos de datos del mismo tipo o en casos especiales de diferentes tipos"
   ]
  },
  {
   "cell_type": "markdown",
   "metadata": {},
   "source": [
    "## 1. Listas\n",
    "llamados también Arreglos, Vectores\n"
   ]
  },
  {
   "cell_type": "code",
   "execution_count": 264,
   "metadata": {},
   "outputs": [
    {
     "name": "stdout",
     "output_type": "stream",
     "text": [
      "El tipo de dato de personas es:  <class 'list'>\n",
      "la longitud de la lista nombres:  4\n",
      "Nombre en la posicion 2 contiene:  Pedro\n",
      "Imprimiendo el ultimo elemento de la lista es:  Lizeth\n",
      "Impriemendo el ultimo nombre de manera mas elegante:  Lizeth\n",
      "Imprimiendo el penultimo:  Juanita\n"
     ]
    }
   ],
   "source": [
    "#             0       1         2         3\n",
    "nombres = ['Juan', 'Pedro', 'Juanita', 'Lizeth']\n",
    "#            -4      -3        -2        -1\n",
    "\n",
    "# tipo de dato de la variable personas\n",
    "print('El tipo de dato de personas es: ', type(nombres))\n",
    "\n",
    "# longitud: es la cantidad de datos\n",
    "print('la longitud de la lista nombres: ', len(nombres))\n",
    "\n",
    "# Imprimiendo el dato en la posicion 2\n",
    "print('Nombre en la posicion 2 contiene: ', nombres[1],)\n",
    "\n",
    "# Imprimiendo el ultimpo elemento de la lista\n",
    "print('Imprimiendo el ultimo elemento de la lista es: ', nombres[len(nombres) - 1])\n",
    "# Haciendo de una manera mas elegante\n",
    "print('Impriemendo el ultimo nombre de manera mas elegante: ', nombres[-1])\n",
    "print('Imprimiendo el penultimo: ', nombres[-2])\n"
   ]
  },
  {
   "cell_type": "markdown",
   "metadata": {},
   "source": [
    "### Agregando datos."
   ]
  },
  {
   "cell_type": "code",
   "execution_count": 265,
   "metadata": {},
   "outputs": [
    {
     "name": "stdout",
     "output_type": "stream",
     "text": [
      "Agregando el nuevo nombre:  ['Juan', 'Pedro', 'Juanita', 'Lizeth', 'Maria']\n",
      "Agregado el nuevo nombre:  ['Juan', 'Pedro', 'Juanita', 'Lizeth', 'Maria', 'Ronal']\n",
      "Agregando con append ['Juan', 'Pedro', 'Juanita', 'Lizeth', 'Maria', 'Ronal', 'Julio']\n"
     ]
    }
   ],
   "source": [
    "# Agregando nombres a la lista:\n",
    "nombres = nombres + ['Maria'] # <- Que estamos gastando demaciados recursos\n",
    "\n",
    "print('Agregando el nuevo nombre: ', nombres)\n",
    "\n",
    "# resumiendo\n",
    "nombres += ['Ronal'] # <- Que estamos gastando demaciados recursos\n",
    "print('Agregado el nuevo nombre: ', nombres)\n",
    "\n",
    "# la mejor forma es anadir\n",
    "nombres.append('Julio')\n",
    "print('Agregando con append', nombres)\n"
   ]
  },
  {
   "cell_type": "markdown",
   "metadata": {},
   "source": [
    "### Quitando datos"
   ]
  },
  {
   "cell_type": "code",
   "execution_count": 266,
   "metadata": {},
   "outputs": [
    {
     "name": "stdout",
     "output_type": "stream",
     "text": [
      "quitando el ultimo elemento:  ['Juan', 'Pedro', 'Juanita', 'Lizeth', 'Maria', 'Ronal']\n",
      "quitando en la posisicon 1 ['Juan', 'Juanita', 'Lizeth', 'Maria', 'Ronal']\n"
     ]
    }
   ],
   "source": [
    "nombres.pop() # <- quita el ultimo elemento\n",
    "\n",
    "print('quitando el ultimo elemento: ', nombres)\n",
    "\n",
    "nombres.pop(1) # <- quitando elemento en la posicion 1\n",
    "print('quitando en la posisicon 1', nombres)"
   ]
  },
  {
   "cell_type": "code",
   "execution_count": 267,
   "metadata": {},
   "outputs": [
    {
     "name": "stdout",
     "output_type": "stream",
     "text": [
      "3\n",
      "['Juan', 'Juanita', 'Lizeth', 'Ronal']\n"
     ]
    }
   ],
   "source": [
    "# Ubucacion de un elemento\n",
    "print(nombres.index('Maria'))\n",
    "\n",
    "# Eliminar el primer elemento de la lista\n",
    "nombres.remove('Maria')\n",
    "print(nombres)"
   ]
  },
  {
   "cell_type": "code",
   "execution_count": 268,
   "metadata": {},
   "outputs": [
    {
     "name": "stdout",
     "output_type": "stream",
     "text": [
      "['Juan', 'Juanita', 'Lizeth', 'Ronal', 'Pedro', 'Humberto', 'Rosa', 'Juanito']\n"
     ]
    }
   ],
   "source": [
    "# Agregando mas elementos a la lista\n",
    "nombres.extend(['Pedro', 'Humberto', 'Rosa', 'Juanito'])\n",
    "print(nombres)"
   ]
  },
  {
   "cell_type": "code",
   "execution_count": 269,
   "metadata": {},
   "outputs": [
    {
     "name": "stdout",
     "output_type": "stream",
     "text": [
      "1\n"
     ]
    }
   ],
   "source": [
    "print(nombres.count('Rosa')) # <- Devuelve las veces que se repite el dato"
   ]
  },
  {
   "cell_type": "code",
   "execution_count": 270,
   "metadata": {},
   "outputs": [
    {
     "name": "stdout",
     "output_type": "stream",
     "text": [
      "['Humberto', 'Juan', 'Juanita', 'Juanito', 'Lizeth', 'Pedro', 'Ronal', 'Rosa']\n"
     ]
    }
   ],
   "source": [
    "# ordenando los elemnetos\n",
    "# si son numeros 1, 2, 3, ...\n",
    "# si son letras a, b, c,\n",
    "nombres.sort()\n",
    "print(nombres)"
   ]
  },
  {
   "cell_type": "code",
   "execution_count": 271,
   "metadata": {},
   "outputs": [
    {
     "name": "stdout",
     "output_type": "stream",
     "text": [
      "['Rosa', 'Ronal', 'Pedro', 'Lizeth', 'Juanito', 'Juanita', 'Juan', 'Humberto']\n"
     ]
    }
   ],
   "source": [
    "# invirtiendo la lista\n",
    "nombres.reverse()\n",
    "print(nombres)"
   ]
  },
  {
   "cell_type": "code",
   "execution_count": 272,
   "metadata": {},
   "outputs": [
    {
     "name": "stdout",
     "output_type": "stream",
     "text": [
      "['Rosa', 'Ronal', 'Pedro']\n",
      "['Juanito', 'Juanita', 'Juan', 'Humberto']\n",
      "['Pedro', 'Lizeth', 'Juanito', 'Juanita', 'Juan', 'Humberto']\n",
      "['Juan', 'Humberto']\n",
      "['Rosa', 'Ronal', 'Pedro', 'Lizeth', 'Juanito']\n",
      "['Pedro', 'Lizeth', 'Juanito', 'Juanita', 'Juan']\n",
      "['Lizeth', 'Juanito', 'Juanita', 'Juan']\n",
      "['Rosa', 'Lizeth', 'Juan']\n"
     ]
    }
   ],
   "source": [
    "# Imprimiendo los 3 primeros datos\n",
    "print(nombres[:3])\n",
    "\n",
    "# imprimenod desde el elemento en la posicion 4\n",
    "print(nombres[4:])\n",
    "\n",
    "# Imprimiendo los elementos que estan del 2 al 7 (incluido este ultimo)\n",
    "print(nombres[2:8])\n",
    "\n",
    "# Imprimir los dos ultimos elementos\n",
    "print(nombres[-2:])\n",
    "\n",
    "# imprimir todo menos los 3 ultimos elementos\n",
    "print(nombres[:-3])\n",
    "\n",
    "# imprimer desde el tercer elemento hasta el penultimo\n",
    "print(nombres[2:-1])\n",
    "\n",
    "# imprimir desde el 5 elemento contando desde atras hasta el penultimo\n",
    "print(nombres[-5:-1])\n",
    "\n",
    "# Imprimir los elementos dejando 1 lista[start:end:step]\n",
    "print(nombres[::3])\n"
   ]
  },
  {
   "cell_type": "markdown",
   "metadata": {},
   "source": [
    "### Usando `del`"
   ]
  },
  {
   "cell_type": "code",
   "execution_count": 273,
   "metadata": {},
   "outputs": [
    {
     "name": "stdout",
     "output_type": "stream",
     "text": [
      "['Rosa', 'Ronal', 'Pedro', 'Lizeth', 'Juanito', 'Juanita', 'Juan', 'Humberto']\n",
      "['Rosa', 'Ronal', 'Pedro', 'Juanito', 'Juanita', 'Juan', 'Humberto']\n",
      "['Rosa', 'Ronal', 'Pedro', 'Juanito', 'Juanita']\n"
     ]
    }
   ],
   "source": [
    "# Eliminando el elemenot en la posicion 3\n",
    "\n",
    "# del lista[start:end:step]\n",
    "print(nombres)\n",
    "\n",
    "del nombres[3]\n",
    "\n",
    "print(nombres)\n",
    "\n",
    "del nombres[-2:]\n",
    "print(nombres)\n",
    "\n"
   ]
  },
  {
   "cell_type": "markdown",
   "metadata": {},
   "source": [
    "### uso de `in`"
   ]
  },
  {
   "cell_type": "code",
   "execution_count": 274,
   "metadata": {},
   "outputs": [
    {
     "name": "stdout",
     "output_type": "stream",
     "text": [
      "['Rosa', 'Ronal', 'Pedro', 'Juanito', 'Juanita']\n"
     ]
    },
    {
     "data": {
      "text/plain": [
       "True"
      ]
     },
     "execution_count": 274,
     "metadata": {},
     "output_type": "execute_result"
    }
   ],
   "source": [
    "print(nombres)\n",
    "\n",
    "'Rosa' in nombres"
   ]
  },
  {
   "cell_type": "markdown",
   "metadata": {},
   "source": [
    "## Coversion de tipos de datos\n",
    "`datatype(variable)`"
   ]
  },
  {
   "cell_type": "code",
   "execution_count": 308,
   "metadata": {},
   "outputs": [
    {
     "name": "stdout",
     "output_type": "stream",
     "text": [
      "['E', 'l', 'i', 'z', 'a', 'b', 'e', 't', 'h']\n",
      "['Juanita', 'Martinez']\n",
      "['pera', 'manzana', 'papaya', 'platano']\n",
      "el codigo acci de @ es: 65\n",
      "Entero 65 a char @\n",
      "Entero de 12.6:  12\n",
      "entero 13 a float:  13.0\n",
      "int de True:  1\n",
      "bool de 13:  False\n",
      "{'Juan', 'Ronal', 'Lizeth', 'Maria', 'Pedro', 'lizeth', 'Julio', 'Juanita'}\n",
      "{'Toledo', 'Juan', 'Pedro', 'Enrique', 'Juanita'}\n",
      "\n",
      "============================================\n",
      "\n",
      "Alguanas operaciones con conjuntos\n",
      "A - B =  {'Ronal', 'Lizeth', 'Maria', 'lizeth', 'Julio'}\n",
      "A U B =  {'Juan', 'Ronal', 'Lizeth', 'Toledo', 'Maria', 'Pedro', 'Enrique', 'lizeth', 'Julio', 'Juanita'}\n",
      "A n B =  {'Juan', 'Pedro', 'Juanita'}\n",
      "A ^ B  {'Ronal', 'Maria', 'Enrique', 'lizeth', 'Julio', 'Lizeth', 'Toledo'}\n"
     ]
    }
   ],
   "source": [
    "nombre = 'Elizabeth'\n",
    "\n",
    "nombre_lista = list('Elizabeth')\n",
    "print(nombre_lista)\n",
    "\n",
    "nombre_completo = 'Juanita Martinez'\n",
    "nombre_completo_lista = nombre_completo.split()\n",
    "print(nombre_completo_lista)\n",
    "\n",
    "frutas = 'pera, manzana, papaya, platano'\n",
    "frutas_lista = frutas.split(', ')\n",
    "print(frutas_lista)\n",
    "\n",
    "# char a entero\n",
    "print('el codigo acci de @ es:', ord('A'))\n",
    "\n",
    "# Entero a char\n",
    "print('Entero 65 a char', chr(64))\n",
    "\n",
    "# Float -> int\n",
    "print('Entero de 12.6: ', int(12.2))\n",
    "\n",
    "# int -> float\n",
    "print('entero 13 a float: ', float(13))\n",
    "\n",
    "# bool -> int\n",
    "print('int de True: ', int(True))\n",
    "\n",
    "# int -> bool\n",
    "print('bool de 13: ', bool(0))\n",
    "\n",
    "\n",
    "nombres = ['Juan', 'Pedro', 'Juanita', 'Lizeth', 'Maria', 'Ronal', 'Julio', 'lizeth']\n",
    "\n",
    "\n",
    "nombres_A= set(nombres)\n",
    "nombres_B = {'Juan', 'Pedro', 'Juanita', 'Enrique', 'Toledo'}\n",
    "print(nombres_A)\n",
    "print(nombres_B)\n",
    "\n",
    "print(\"\\n============================================\")\n",
    "print(\"\\nAlguanas operaciones con conjuntos\")\n",
    "\n",
    "print('A - B = ', nombres_A - nombres_B )\n",
    "print('A U B = ', nombres_A | nombres_B )\n",
    "print('A n B = ', nombres_A & nombres_B)\n",
    "print('A ^ B ', nombres_A ^ nombres_B)\n"
   ]
  },
  {
   "cell_type": "markdown",
   "metadata": {},
   "source": [
    "## Diccionaros (dict)\n",
    "```python\n",
    "diccionario = {\n",
    "    \"clave1\": valor1,\n",
    "    \"clave2\": valor2,\n",
    "    \"clave3\": valor3,\n",
    "    \"clave4\": valor4,\n",
    "    \"clave5\": valor5,\n",
    "    \"clave6\": valor6,\n",
    "    \"clave7\": valor7,\n",
    "    \"clave8\": valor8,\n",
    "    \"clave9\": valor9,\n",
    "    \"clave10\": valor10,\n",
    "}\n",
    "```"
   ]
  },
  {
   "cell_type": "code",
   "execution_count": 316,
   "metadata": {},
   "outputs": [
    {
     "name": "stdout",
     "output_type": "stream",
     "text": [
      "{'nombre': 'Barry', 'poder': 'Super Rapido', 'edad': 28, 'sexo': True, 'creador': 'Dc Comics', 'estatura': 1.8, 'amigos': ['Superman', 'Wonder Woman', 'Batman']}\n",
      "\n",
      "Superhero:  Barry\n",
      "Super poder:  Super Rapido\n",
      "Edad:  28\n",
      "Estatura:  1.8\n"
     ]
    }
   ],
   "source": [
    "Flash =  {\n",
    "    'nombre': 'Barry',\n",
    "    'poder': 'Super Rapido',\n",
    "    'edad': 28,\n",
    "    'sexo': True,\n",
    "    'creador': 'Dc Comics',\n",
    "    'estatura': 1.80,\n",
    "    'amigos': ['Superman', 'Wonder Woman', 'Batman']\n",
    "}\n",
    "\n",
    "print(Flash)\n",
    "\n",
    "# Accdiendo a los datos\n",
    "print('\\nSuperhero: ', Flash['nombre'])\n",
    "print('Super poder: ', Flash['poder'] )\n",
    "print('Edad: ', Flash['edad'])\n",
    "print('Estatura: ', Flash['estatura'])"
   ]
  }
 ],
 "metadata": {
  "kernelspec": {
   "display_name": "Python 3.10.4 64-bit",
   "language": "python",
   "name": "python3"
  },
  "language_info": {
   "codemirror_mode": {
    "name": "ipython",
    "version": 3
   },
   "file_extension": ".py",
   "mimetype": "text/x-python",
   "name": "python",
   "nbconvert_exporter": "python",
   "pygments_lexer": "ipython3",
   "version": "3.10.5"
  },
  "vscode": {
   "interpreter": {
    "hash": "3b9e2c1c1886a70341260ccdb5dca7eda20d5b2d2b81ccdfd5c7d91942664b3a"
   }
  }
 },
 "nbformat": 4,
 "nbformat_minor": 2
}
