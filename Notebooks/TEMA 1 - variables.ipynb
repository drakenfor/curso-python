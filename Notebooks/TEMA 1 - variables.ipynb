{
 "cells": [
  {
   "cell_type": "markdown",
   "metadata": {},
   "source": [
    "# TEMA 1: Variables"
   ]
  },
  {
   "cell_type": "markdown",
   "metadata": {},
   "source": [
    "# I. Datos Primitivos "
   ]
  },
  {
   "cell_type": "markdown",
   "metadata": {},
   "source": [
    "## 1. Strings (str)\n",
    "Son cades de caracteres"
   ]
  },
  {
   "cell_type": "code",
   "execution_count": null,
   "metadata": {},
   "outputs": [],
   "source": [
    "#Declarando mis strings\n",
    "mi_string = 'Mi primer strig'\n",
    "mi_string_numero = '1'\n",
    "\n",
    "nombre = 'Juanita'\n",
    "apellido = 'Perez'"
   ]
  },
  {
   "cell_type": "markdown",
   "metadata": {},
   "source": [
    "### 1.1 Imprimir Strings"
   ]
  },
  {
   "cell_type": "code",
   "execution_count": 15,
   "metadata": {},
   "outputs": [
    {
     "name": "stdout",
     "output_type": "stream",
     "text": [
      "Mi primer strig\n",
      "1\n",
      "Juanita Perez\n",
      "Juanita, Perez!"
     ]
    }
   ],
   "source": [
    "print(mi_string)\n",
    "print(mi_string_numero)\n",
    "\n",
    "print(nombre, apellido)\n",
    "print(nombre, apellido, sep=', ', end='!')\n"
   ]
  },
  {
   "cell_type": "markdown",
   "metadata": {},
   "source": [
    "### 1.2  Concatener strings\n",
    "(sumar strings)"
   ]
  },
  {
   "cell_type": "code",
   "execution_count": 18,
   "metadata": {},
   "outputs": [
    {
     "name": "stdout",
     "output_type": "stream",
     "text": [
      "Juanito*Juan\n"
     ]
    }
   ],
   "source": [
    "nombre = 'Juanito'\n",
    "apellido = 'Juan'\n",
    "nombre_completo = nombre + ' ' + apellido + '!'\n",
    "print(nombre_completo)\n"
   ]
  },
  {
   "cell_type": "markdown",
   "metadata": {},
   "source": [
    "## 2. Enteros (int)"
   ]
  },
  {
   "cell_type": "code",
   "execution_count": 19,
   "metadata": {},
   "outputs": [],
   "source": [
    "# Declarando tipos de datos enteros\n",
    "num1 = 6\n",
    "num2 = 8"
   ]
  },
  {
   "cell_type": "markdown",
   "metadata": {},
   "source": [
    "### 2.1 Operaciones aritmeticas"
   ]
  },
  {
   "cell_type": "code",
   "execution_count": 36,
   "metadata": {},
   "outputs": [
    {
     "name": "stdout",
     "output_type": "stream",
     "text": [
      "14\n",
      "-2\n",
      "48\n",
      "0.75\n",
      "16\n",
      "3.0\n"
     ]
    }
   ],
   "source": [
    "# Suma\n",
    "resultado = num1 + num2\n",
    "print(resultado)\n",
    "\n",
    "# resta\n",
    "resultado = num1 - num2\n",
    "print(resultado)\n",
    "\n",
    "# Multiplicar\n",
    "resultado = num1 * num2\n",
    "print(resultado)\n",
    "\n",
    "# dividir\n",
    "resultado = num1 / num2\n",
    "print(resultado)\n",
    "\n",
    "#Potencia\n",
    "resultado = 2 ** 4\n",
    "print(resultado)\n",
    "\n",
    "#Raiz\n",
    "resultado = 9 ** 0.5\n",
    "print(resultado)\n"
   ]
  },
  {
   "cell_type": "markdown",
   "metadata": {},
   "source": [
    "## 3. Floats (float)\n",
    "Son variables de tipo decimal o que pertenecen a los reales"
   ]
  },
  {
   "cell_type": "code",
   "execution_count": 37,
   "metadata": {},
   "outputs": [],
   "source": [
    "# Declarando desimales\n",
    "decimal1 = 3.5\n",
    "decimal2 = 4.6"
   ]
  },
  {
   "cell_type": "markdown",
   "metadata": {},
   "source": [
    "### 3.1 Operaciones aritmitas\n",
    "(Tarea: hacer lo de enteros) "
   ]
  },
  {
   "cell_type": "markdown",
   "metadata": {},
   "source": [
    "### 3.2 Redondeo"
   ]
  },
  {
   "cell_type": "code",
   "execution_count": 53,
   "metadata": {},
   "outputs": [
    {
     "name": "stdout",
     "output_type": "stream",
     "text": [
      "1.414\n",
      "1.4142\n"
     ]
    }
   ],
   "source": [
    "numero = 2 ** 0.5\n",
    "numero_redondeado = round(numero, 3)\n",
    "print(numero_redondeado)\n",
    "\n",
    "# Si quiero que el numero redondeado se guarde en la misma variable\n",
    "numero = round(numero, 4)\n",
    "print(numero)"
   ]
  },
  {
   "cell_type": "markdown",
   "metadata": {},
   "source": [
    "## 4. Booleanos (bool)"
   ]
  },
  {
   "cell_type": "code",
   "execution_count": 66,
   "metadata": {},
   "outputs": [],
   "source": [
    "# Declarando variables de tipo bool\n",
    "bool1 = False\n",
    "bool2 = True\n",
    "\n",
    "p = True\n",
    "q = False\n",
    "r = True"
   ]
  },
  {
   "cell_type": "markdown",
   "metadata": {},
   "source": [
    "### 4.1 Operaciones lógicas"
   ]
  },
  {
   "cell_type": "code",
   "execution_count": 92,
   "metadata": {},
   "outputs": [
    {
     "name": "stdout",
     "output_type": "stream",
     "text": [
      "True\n",
      "False\n",
      "False\n",
      "True\n",
      "False\n",
      "True\n"
     ]
    }
   ],
   "source": [
    "# O (or)\n",
    "print(bool1 or bool2)\n",
    "print( False or False )\n",
    "\n",
    "# Y (and)\n",
    "print( bool1 and bool2 )\n",
    "print ( True and True )\n",
    "\n",
    "# Anidando\n",
    "print( p and q and r )\n",
    "print( p and q or r )"
   ]
  },
  {
   "cell_type": "markdown",
   "metadata": {},
   "source": [
    "### Tarea: probar lo siguiente\n",
    "* Operador de comparación == \n",
    "* Operador mayor que >\n",
    "* Operador menor que <\n",
    "* Operador mayor igual que => \n",
    "* Operador menor igual que <= \n",
    "* Operador difernte que != \n",
    "* Operador modulo % , me calcula el residuo\n",
    "\n",
    "Recuara que no neseariamente tiene que ser datos de tipo Bool"
   ]
  },
  {
   "cell_type": "code",
   "execution_count": 12,
   "metadata": {},
   "outputs": [
    {
     "name": "stdout",
     "output_type": "stream",
     "text": [
      "5 es igual 5: True\n",
      "5 != 5: False\n",
      "5 > 5: False\n",
      "6 es mayor o igual que 5: True\n",
      "8 % 5: 3\n"
     ]
    }
   ],
   "source": [
    "print('5 es igual 5:', 5 == 5)\n",
    "print('5 != 5:', 5 != 5)\n",
    "print('5 > 5:', 5 > 5)\n",
    "print('6 es mayor o igual que 5:', 6 >= 5)\n",
    "\n",
    "print('8 % 5:', 8 % 5)"
   ]
  },
  {
   "cell_type": "markdown",
   "metadata": {},
   "source": [
    "### Tipo de dato de una variable"
   ]
  },
  {
   "cell_type": "code",
   "execution_count": 41,
   "metadata": {},
   "outputs": [
    {
     "name": "stdout",
     "output_type": "stream",
     "text": [
      "El tipo de dato de nombre es:  <class 'str'>\n",
      "El tipo de dato de edad es:  <class 'int'>\n",
      "El tipo de dato de talla es:  <class 'float'>\n",
      "El tipo de dato de genero es:  <class 'bool'>\n",
      "La cantidad de caracters de nombre es: 7\n"
     ]
    }
   ],
   "source": [
    "nombre = 'Juanita'\n",
    "edad = 30\n",
    "talla = 165.22 # cm\n",
    "genero = False # True: varon; False: mujer\n",
    "\n",
    "print('El tipo de dato de nombre es: ', type(nombre))\n",
    "print('El tipo de dato de edad es: ', type(edad))\n",
    "print('El tipo de dato de talla es: ', type(talla))\n",
    "print('El tipo de dato de genero es: ', type(genero))\n",
    "\n",
    "print('La cantidad de caracters de nombre es:', len(nombre))"
   ]
  },
  {
   "cell_type": "markdown",
   "metadata": {},
   "source": [
    "# II. Datos estructurados\n",
    "Son conjuntos de datos del mismo tipo o en casos especiales de diferentes tipos"
   ]
  },
  {
   "cell_type": "markdown",
   "metadata": {},
   "source": [
    "## 1. Listas\n",
    "llamados también Arreglos, Vectores\n"
   ]
  },
  {
   "cell_type": "code",
   "execution_count": 89,
   "metadata": {},
   "outputs": [
    {
     "name": "stdout",
     "output_type": "stream",
     "text": [
      "El tipo de dato de personas es:  <class 'list'>\n",
      "la longitud de la lista nombres:  4\n",
      "Nombre en la posicion 2 contiene:  Pedro\n",
      "Imprimiendo el ultimo elemento de la lista es:  Lizeth\n",
      "Impriemendo el ultimo nombre de manera mas elegante:  Lizeth\n",
      "Imprimiendo el penultimo:  Juanita\n"
     ]
    }
   ],
   "source": [
    "#             0       1         2         3\n",
    "nombres = ['Juan', 'Pedro', 'Juanita', 'Lizeth']\n",
    "#            -4      -3        -2        -1\n",
    "\n",
    "# tipo de dato de la variable personas\n",
    "print('El tipo de dato de personas es: ', type(nombres))\n",
    "\n",
    "# longitud: es la cantidad de datos\n",
    "print('la longitud de la lista nombres: ', len(nombres))\n",
    "\n",
    "# Imprimiendo el dato en la posicion 2\n",
    "print('Nombre en la posicion 2 contiene: ', nombres[1],)\n",
    "\n",
    "# Imprimiendo el ultimpo elemento de la lista\n",
    "print('Imprimiendo el ultimo elemento de la lista es: ', nombres[len(nombres) - 1])\n",
    "# Haciendo de una manera mas elegante\n",
    "print('Impriemendo el ultimo nombre de manera mas elegante: ', nombres[-1])\n",
    "print('Imprimiendo el penultimo: ', nombres[-2])\n"
   ]
  },
  {
   "cell_type": "markdown",
   "metadata": {},
   "source": [
    "### Agregando datos."
   ]
  },
  {
   "cell_type": "code",
   "execution_count": 87,
   "metadata": {},
   "outputs": [
    {
     "name": "stdout",
     "output_type": "stream",
     "text": [
      "Agregando el nuevo nombre:  ['Juan', 'Ronal', 'Julio', 'Maria', 'Ronal', 'Maria']\n",
      "Agregado el nuevo nombre:  ['Juan', 'Ronal', 'Julio', 'Maria', 'Ronal', 'Maria', 'Ronal']\n",
      "Agregando con append ['Juan', 'Ronal', 'Julio', 'Maria', 'Ronal', 'Maria', 'Ronal', 'Julio']\n"
     ]
    }
   ],
   "source": [
    "# Agregando nombres a la lista:\n",
    "nombres = nombres + ['Maria'] # <- Que estamos gastando demaciados recursos\n",
    "\n",
    "print('Agregando el nuevo nombre: ', nombres)\n",
    "\n",
    "# resumiendo\n",
    "nombres += ['Ronal'] # <- Que estamos gastando demaciados recursos\n",
    "print('Agregado el nuevo nombre: ', nombres)\n",
    "\n",
    "# la mejor forma es anadir\n",
    "nombres.append('Julio')\n",
    "print('Agregando con append', nombres)\n"
   ]
  },
  {
   "cell_type": "markdown",
   "metadata": {},
   "source": [
    "### Quitando datos"
   ]
  },
  {
   "cell_type": "code",
   "execution_count": 77,
   "metadata": {},
   "outputs": [
    {
     "name": "stdout",
     "output_type": "stream",
     "text": [
      "quitando el ultimo elemento:  ['Juan', 'Lizeth', 'Maria', 'Ronal', 'Julio', 'Maria', 'Maria', 'Ronal']\n",
      "quitando en la posisicon 1 ['Juan', 'Maria', 'Ronal', 'Julio', 'Maria', 'Maria', 'Ronal']\n"
     ]
    }
   ],
   "source": [
    "nombres.pop() # <- quita el ultimo elemento\n",
    "\n",
    "print('quitando el ultimo elemento: ', nombres)\n",
    "\n",
    "nombres.pop(1) # <- quitando elemento en la posicion 1\n",
    "print('quitando en la posisicon 1', nombres)"
   ]
  },
  {
   "cell_type": "code",
   "execution_count": 88,
   "metadata": {},
   "outputs": [
    {
     "name": "stdout",
     "output_type": "stream",
     "text": [
      "3\n",
      "['Juan', 'Ronal', 'Julio', 'Ronal', 'Maria', 'Ronal', 'Julio']\n"
     ]
    }
   ],
   "source": [
    "# Ubucacion de un elemento\n",
    "print(nombres.index('Maria'))\n",
    "\n",
    "# Eliminar el primer elemento de la lista\n",
    "nombres.remove('Maria')\n",
    "print(nombres)"
   ]
  }
 ],
 "metadata": {
  "kernelspec": {
   "display_name": "Python 3.10.4 64-bit",
   "language": "python",
   "name": "python3"
  },
  "language_info": {
   "codemirror_mode": {
    "name": "ipython",
    "version": 3
   },
   "file_extension": ".py",
   "mimetype": "text/x-python",
   "name": "python",
   "nbconvert_exporter": "python",
   "pygments_lexer": "ipython3",
   "version": "3.10.4"
  },
  "vscode": {
   "interpreter": {
    "hash": "3b9e2c1c1886a70341260ccdb5dca7eda20d5b2d2b81ccdfd5c7d91942664b3a"
   }
  }
 },
 "nbformat": 4,
 "nbformat_minor": 2
}
