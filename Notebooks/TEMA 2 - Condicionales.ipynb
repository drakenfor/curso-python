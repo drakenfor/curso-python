{
 "metadata": {
  "language_info": {
   "codemirror_mode": {
    "name": "ipython",
    "version": 3
   },
   "file_extension": ".py",
   "mimetype": "text/x-python",
   "name": "python",
   "nbconvert_exporter": "python",
   "pygments_lexer": "ipython3",
   "version": "3.8.3-final"
  },
  "orig_nbformat": 2,
  "kernelspec": {
   "name": "python3",
   "display_name": "Python 3",
   "language": "python"
  }
 },
 "nbformat": 4,
 "nbformat_minor": 2,
 "cells": [
  {
   "source": [
    "# TEMA 2: CONDICIONALES"
   ],
   "cell_type": "markdown",
   "metadata": {}
  },
  {
   "source": [
    "## If: \n",
    "* Sirve para evaluar una condición\n",
    "## Else:\n",
    "* Sirve para ejecutar algo si la condición no se cumple"
   ],
   "cell_type": "markdown",
   "metadata": {}
  },
  {
   "cell_type": "code",
   "execution_count": 6,
   "metadata": {},
   "outputs": [
    {
     "output_type": "stream",
     "name": "stdout",
     "text": [
      "7 no es mayor que 5\nHOla mundo\n"
     ]
    }
   ],
   "source": [
    "if 7 <= 5:\n",
    "    print(\"7 es mayor que 5\")\n",
    "else:\n",
    "    print(\"7 no es mayor que 5\")\n",
    "\n",
    "print(\"HOla mundo\")"
   ]
  },
  {
   "source": [
    "### Ejercio 1\n",
    "* Determine el mayor de dos números ingresados por el teclado"
   ],
   "cell_type": "markdown",
   "metadata": {}
  },
  {
   "cell_type": "code",
   "execution_count": 9,
   "metadata": {},
   "outputs": [
    {
     "output_type": "stream",
     "name": "stdout",
     "text": [
      "8  es mayor que  7\n"
     ]
    }
   ],
   "source": [
    "a = int(input(\"ingrese un entero: \"))\n",
    "b = int(input(\"ingrese otro entero: \"))\n",
    "\n",
    "if a >= b:\n",
    "    #Concatenando de la forma 1\n",
    "    print(str(a) + ' es mayor que ' + str(b))\n",
    "else:\n",
    "    #Concantenando de otra forma (Valido solo en print)\n",
    "    print(b, ' es mayor que ', a)\n"
   ]
  },
  {
   "source": [
    "### Ejericio 2: Con condicionales anidadas\n",
    "Determinar el mayor de tres numeros"
   ],
   "cell_type": "markdown",
   "metadata": {}
  },
  {
   "cell_type": "code",
   "execution_count": 12,
   "metadata": {},
   "outputs": [
    {
     "output_type": "stream",
     "name": "stdout",
     "text": [
      "El número mayor es:  8.9\n"
     ]
    }
   ],
   "source": [
    "a = float(input(\"Ingrese el primer número: \"))\n",
    "b = float(input(\"Ingrese el segundo número: \"))\n",
    "c = float(input(\"Ingrese el tercer número\"))\n",
    "\n",
    "if a >= b:\n",
    "    if a >= c:\n",
    "        print('El número mayor es: ', a)\n",
    "\n",
    "    else:\n",
    "        print('El número mayor es: ', c)\n",
    "\n",
    "else:\n",
    "    if b >= c:\n",
    "        print('El número mayor es: ', b)\n",
    "    \n",
    "    else:\n",
    "        print('El número mayor es: ', c)"
   ]
  },
  {
   "source": [
    "### TAREA: Imprimir de menor a mayor tres numeros ingresados por teclado,\n",
    "hacer lo smismo de mayor a menor"
   ],
   "cell_type": "markdown",
   "metadata": {}
  },
  {
   "source": [
    "## Elif (else if)\n",
    "Es como un else pero con condición"
   ],
   "cell_type": "markdown",
   "metadata": {}
  },
  {
   "source": [
    "### Ejercicio 4: Determinar si una persona es un niño, adolecente, joven o adulto\n",
    "* niño de 0 a 12  años\n",
    "* adolecente de 12 años a 18\n",
    "* joven de 18 a 28 años\n",
    "* adulto de 28 a mas"
   ],
   "cell_type": "markdown",
   "metadata": {}
  },
  {
   "cell_type": "code",
   "execution_count": 27,
   "metadata": {},
   "outputs": [
    {
     "output_type": "stream",
     "name": "stdout",
     "text": [
      "La edad no es valida\n"
     ]
    }
   ],
   "source": [
    "edad = int(input(\"Ingrese una edad: \"))\n",
    "\n",
    "if edad > 0 and edad <= 110 :\n",
    "\n",
    "    if edad < 12:\n",
    "        print(\"Es un niño\")\n",
    "\n",
    "    elif edad < 18:\n",
    "        print(\"Es un adolecente\")\n",
    "    \n",
    "    elif edad < 28:\n",
    "        print(\"Es un joven\")\n",
    "    \n",
    "    else:\n",
    "        print(\"Es un adulto\")\n",
    "\n",
    "else:\n",
    "    print('La edad no es valida')\n"
   ]
  },
  {
   "cell_type": "code",
   "execution_count": null,
   "metadata": {},
   "outputs": [],
   "source": []
  }
 ]
}