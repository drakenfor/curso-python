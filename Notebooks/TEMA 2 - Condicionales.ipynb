{
 "cells": [
  {
   "cell_type": "markdown",
   "metadata": {},
   "source": [
    "# TEMA 2: CONDICIONALES"
   ]
  },
  {
   "cell_type": "markdown",
   "metadata": {},
   "source": [
    "## If: \n",
    "* Sirve para evaluar una condición\n",
    "## Else:\n",
    "* Sirve para ejecutar algo si la condición no se cumple"
   ]
  },
  {
   "cell_type": "code",
   "execution_count": 6,
   "metadata": {},
   "outputs": [
    {
     "name": "stdout",
     "output_type": "stream",
     "text": [
      "7 no es mayor que 5\n",
      "HOla mundo\n"
     ]
    }
   ],
   "source": [
    "if 7 <= 5:\n",
    "    print(\"7 es mayor que 5\")\n",
    "else:\n",
    "    print(\"7 no es mayor que 5\")\n",
    "\n",
    "print(\"HOla mundo\")"
   ]
  },
  {
   "cell_type": "markdown",
   "metadata": {},
   "source": [
    "### Ejemplo 1\n",
    "* Determine el mayor de dos números ingresados por el teclado"
   ]
  },
  {
   "cell_type": "code",
   "execution_count": 9,
   "metadata": {},
   "outputs": [
    {
     "name": "stdout",
     "output_type": "stream",
     "text": [
      "8  es mayor que  7\n"
     ]
    }
   ],
   "source": [
    "a = int(input(\"ingrese un entero: \"))\n",
    "b = int(input(\"ingrese otro entero: \"))\n",
    "\n",
    "if a >= b:\n",
    "    #Concatenando de la forma 1\n",
    "    print(str(a) + ' es mayor que ' + str(b))\n",
    "else:\n",
    "    #Concantenando de otra forma (Valido solo en print)\n",
    "    print(b, ' es mayor que ', a)\n"
   ]
  },
  {
   "cell_type": "markdown",
   "metadata": {},
   "source": [
    "### Ejemplo2: Con condicionales anidadas\n",
    "Determinar el mayor de tres numeros"
   ]
  },
  {
   "cell_type": "code",
   "execution_count": 12,
   "metadata": {},
   "outputs": [
    {
     "name": "stdout",
     "output_type": "stream",
     "text": [
      "El número mayor es:  8.9\n"
     ]
    }
   ],
   "source": [
    "a = float(input(\"Ingrese el primer número: \"))\n",
    "b = float(input(\"Ingrese el segundo número: \"))\n",
    "c = float(input(\"Ingrese el tercer número\"))\n",
    "\n",
    "if a >= b:\n",
    "    if a >= c:\n",
    "        print('El número mayor es: ', a)\n",
    "\n",
    "    else:\n",
    "        print('El número mayor es: ', c)\n",
    "\n",
    "else:\n",
    "    if b >= c:\n",
    "        print('El número mayor es: ', b)\n",
    "    \n",
    "    else:\n",
    "        print('El número mayor es: ', c)"
   ]
  },
  {
   "cell_type": "markdown",
   "metadata": {},
   "source": [
    "### TAREA: Imprimir de menor a mayor tres numeros ingresados por teclado,\n",
    "hacer lo smismo de mayor a menor"
   ]
  },
  {
   "cell_type": "markdown",
   "metadata": {},
   "source": [
    "## Elif (else if)\n",
    "Es como un else pero con condición"
   ]
  },
  {
   "cell_type": "markdown",
   "metadata": {},
   "source": [
    "### Ejemplo 4: Determinar si una persona es un niño, adolecente, joven o adulto\n",
    "* niño de 0 a 12  años\n",
    "* adolecente de 12 años a 18\n",
    "* joven de 18 a 28 años\n",
    "* adulto de 28 a mas"
   ]
  },
  {
   "cell_type": "code",
   "execution_count": 27,
   "metadata": {},
   "outputs": [
    {
     "name": "stdout",
     "output_type": "stream",
     "text": [
      "La edad no es valida\n"
     ]
    }
   ],
   "source": [
    "edad = int(input(\"Ingrese una edad: \"))\n",
    "\n",
    "if edad > 0 and edad <= 110 :\n",
    "\n",
    "    if edad < 12:\n",
    "        print(\"Es un niño\")\n",
    "\n",
    "    elif edad < 18:\n",
    "        print(\"Es un adolecente\")\n",
    "    \n",
    "    elif edad < 28:\n",
    "        print(\"Es un joven\")\n",
    "    \n",
    "    else:\n",
    "        print(\"Es un adulto\")\n",
    "\n",
    "else:\n",
    "    print('La edad no es valida')\n"
   ]
  },
  {
   "cell_type": "markdown",
   "metadata": {},
   "source": [
    "## Ejercicios"
   ]
  },
  {
   "cell_type": "markdown",
   "metadata": {},
   "source": [
    "### Ejercicio 1\n",
    "Escriba un programa que invite al usuario a ingresar un número. Luego el programa debe dar salida al número y a un mensaje diciendo si el número es positivo, negativo o cero.\n",
    "\n",
    "#### Solución:"
   ]
  },
  {
   "cell_type": "code",
   "execution_count": 20,
   "metadata": {},
   "outputs": [
    {
     "name": "stdout",
     "output_type": "stream",
     "text": [
      "Ingrese un numero: 5\n",
      "El numero  5.0 es positivo\n"
     ]
    }
   ],
   "source": [
    "# Solución 1\n",
    "num = float(input('Ingrese un numero: '))\n",
    "\n",
    "print('El numero ', num, end = ' es ')\n",
    "\n",
    "if num > 0:\n",
    "    print('positivo')\n",
    "    \n",
    "elif num == 0:\n",
    "    print('cero')\n",
    "\n",
    "else:\n",
    "    print('Negativo')"
   ]
  },
  {
   "cell_type": "code",
   "execution_count": 21,
   "metadata": {},
   "outputs": [
    {
     "name": "stdout",
     "output_type": "stream",
     "text": [
      "Ingrse un numero: 8\n",
      "El numero  8.0 es positivo\n"
     ]
    }
   ],
   "source": [
    "# Solución 2 (Diagrama)\n",
    "num = float(input('Ingrse un numero: '))\n",
    "\n",
    "# end = \" \" sirve para que no de salto de linea\n",
    "\n",
    "print('El numero ', num, end = ' es ')\n",
    "\n",
    "if num > 0:\n",
    "    print('positivo')\n",
    "\n",
    "else:\n",
    "    if num == 0:\n",
    "        print('cero')\n",
    "    else:\n",
    "        print('negativo')"
   ]
  },
  {
   "cell_type": "markdown",
   "metadata": {},
   "source": [
    "### Ejercicio 2\n",
    "Escriba un programa que invite al usuario a ingresar un entero entre 0 y 35. Si el número es menor que o igual a 9, el programa debe dar salida al número; de lo contrario, debe dar salida a A para 10, B para 11, C para 12,..., y Z para 35. \n",
    "#### Solución:"
   ]
  },
  {
   "cell_type": "code",
   "execution_count": 40,
   "metadata": {},
   "outputs": [
    {
     "name": "stdout",
     "output_type": "stream",
     "text": [
      "Ingrese un numero entre 0 y 35: 8\n",
      "El numero es:  8\n"
     ]
    }
   ],
   "source": [
    "num = int(input('Ingrese un numero entre 0 y 35: '))\n",
    "\n",
    "if num < 0 or num > 35:\n",
    "    print('El numero ', num, ' no es permitido')\n",
    "    \n",
    "else:\n",
    "    if num <= 9:\n",
    "        print('El numero es: ', num)\n",
    "    else:\n",
    "        print(chr(55 + num))"
   ]
  },
  {
   "cell_type": "markdown",
   "metadata": {},
   "source": [
    "### Ejercicio 3\n",
    "En un triángulo rectángulo, el cuadrado de la longitud de un lado es igual a la suma de los cuadrados de las longitudes de los otros dos lados. Escriba un programa que invite al usuario a ingresar las longitudes de tres lados de un triángulo y luego que dé salida a un mensaje indicando si el triángulo es uno rectángulo.\n",
    "#### Solución: "
   ]
  },
  {
   "cell_type": "code",
   "execution_count": 46,
   "metadata": {},
   "outputs": [
    {
     "name": "stdout",
     "output_type": "stream",
     "text": [
      "Ingrse el primer lado: 1\n",
      "Ingrese el segundo lado: 1\n",
      "Ingrese el tercer lado: 1\n",
      "El triangulo con lados a =  1.0 , b =  1.0 , c =  1.0 es no es rectangulo\n"
     ]
    }
   ],
   "source": [
    "a = float(input('Ingrse el primer lado: '))\n",
    "b = float(input('Ingrese el segundo lado: '))\n",
    "c = float(input('Ingrese el tercer lado: '))\n",
    "\n",
    "print('El triangulo con lados a = ', a, ', b = ', b, ', c = ', c , end = ' es ')\n",
    "\n",
    "if a**2 == b**2 + c**2 or b**2 == a**2 + c**2 or c**2 == a**2 + b**2:\n",
    "    print('rectangulo')\n",
    "\n",
    "else:\n",
    "    print('no es rectangulo')"
   ]
  },
  {
   "cell_type": "markdown",
   "metadata": {},
   "source": [
    "### 3.1 Del ejericicio anterior\n",
    "Determinar si el triangulo es de tipo\n",
    "1. Rectangulo\n",
    "2. Acutangulo\n",
    "3. Obtusangulo\n",
    "4. Equilatero\n",
    "5. Isoceles\n",
    "\n",
    "Recuerta que, puede ser rectangulo Isoceles, al igual que Acutangulo Iscoceles, entre otras convinaciones, ademas que tener cuidado si, es equilatero, no debe salir comi isoseles.\n",
    "\n",
    "#### Solución: "
   ]
  },
  {
   "cell_type": "code",
   "execution_count": null,
   "metadata": {},
   "outputs": [],
   "source": []
  },
  {
   "cell_type": "markdown",
   "metadata": {},
   "source": [
    "### Ejercicio 4\n",
    "Una caja de galletas puede guardar 24 galletas y un contenedor puede almacenar 75 cajas de galletas. Escriba un programa que invite al usuario a ingresar el número total de galletas. Luego que el programa dé salida al número de cajas y contenedores para enviar las galletas. Observe que cada caja debe tener el número especificado de galletas y que cada contenedor debe tener el número especificado de cajas. Si la última caja de galletas contiene menos que el número de galletas especificadas, se puede desechar y dar salida al número de galletas sobrantes. De manera similar, si el último contenedor contiene menos que el número de cajas especificadas, se puede desechar y dar salida al número de cajas sobrantes.\n",
    "#### Solución: "
   ]
  },
  {
   "cell_type": "markdown",
   "metadata": {},
   "source": [
    "    galletas/caja = 24    => caja       = 24 galletas  \n",
    "    cajas/contenedor = 75 => contenedor = 75 cajas\n",
    "    Se deve ingresar el número de galletas"
   ]
  },
  {
   "cell_type": "code",
   "execution_count": 14,
   "metadata": {},
   "outputs": [
    {
     "name": "stdout",
     "output_type": "stream",
     "text": [
      "Ingrese el número de galletas: 894654654\n",
      "Numero de cajas:  37277277\n",
      "Numero de contenedores:  497030\n",
      "Numero de galletas desechadas:  6\n",
      "Numero de cajas desechadas:  27\n"
     ]
    }
   ],
   "source": [
    "#Pedir al usuario que ingrese el numero de galletas\n",
    "galletas = int(input('Ingrese el número de galletas: '))\n",
    "\n",
    "#Calcular el numero de cajas\n",
    "galletas_desechadas = galletas % 24\n",
    "cajas = int((galletas - galletas_desechadas) / 24)\n",
    "\n",
    "#Calcular el numero de contenedores\n",
    "cajas_desechadas = cajas % 75\n",
    "contenedores = int((cajas - cajas_desechadas) / 75)\n",
    "\n",
    "#imprimiendo los resultados del problema\n",
    "print('Numero de cajas: ', cajas)\n",
    "print('Numero de contenedores: ', contenedores)\n",
    "print('Numero de galletas desechadas: ', galletas_desechadas )\n",
    "print('Numero de cajas desechadas: ', cajas_desechadas)"
   ]
  },
  {
   "cell_type": "markdown",
   "metadata": {},
   "source": [
    "### Ejercicio 5\n",
    "Solución a la siguiente ecuación teniendo en cuenta solo los reales\n",
    "$ax^2 + bx + c = 0$"
   ]
  },
  {
   "cell_type": "code",
   "execution_count": null,
   "metadata": {},
   "outputs": [],
   "source": []
  },
  {
   "cell_type": "markdown",
   "metadata": {},
   "source": [
    "### Ejercicio 6\n",
    "Escriba un programa que imite una calculadora. El programa debe tomar como entrada dos enteros y una operación aritmética (+, -, *, o /) que se realizará. Luego debe dar salida a los números, al operador y al resultado. (Para división, si el denominador es cero, que dé salida a un mensaje apropiado.) Algunas salidas de ejemplo son las siguientes:\n",
    "$$3 + 4 = 7$$\n",
    "$$13 * 5 = 65$$\n",
    "\n",
    "#### Solución: \n",
    "\n"
   ]
  },
  {
   "cell_type": "code",
   "execution_count": 29,
   "metadata": {},
   "outputs": [
    {
     "name": "stdout",
     "output_type": "stream",
     "text": [
      "Ingrese su primer número: 7\n",
      "Ingrese un signo: *\n",
      "Ingrese su segundo número: 9\n",
      "El producto es:  63\n"
     ]
    }
   ],
   "source": [
    "num1 = int(input('Ingrese su primer número: '))\n",
    "signo = input('Ingrese un signo: ')\n",
    "num2 = int(input('Ingrese su segundo número: '))\n",
    "\n",
    "if signo == '+':\n",
    "    print('La suma es: ', num1 + num2)\n",
    "    \n",
    "elif signo == '-':\n",
    "    print('La resta es: ', num1 - num2)\n",
    "    \n",
    "elif signo == '*':\n",
    "   print('El producto es: ', num1 * num2)\n",
    "\n",
    "elif signo == '/':\n",
    "    if num2 != 0:\n",
    "        print('El cosiente es: ', num1 / num2)\n",
    "        \n",
    "    else:\n",
    "        print('No se puede dividir entre 0')\n",
    "\n",
    "else:\n",
    "    print('Operador no valido')\n"
   ]
  },
  {
   "cell_type": "code",
   "execution_count": 41,
   "metadata": {},
   "outputs": [
    {
     "name": "stdout",
     "output_type": "stream",
     "text": [
      "Ingrese su primer número: 7\n",
      "Ingrese un signo: -\n",
      "Ingrese su segundo número: 6\n",
      "La resta es:  1\n",
      "Operador no valido\n"
     ]
    }
   ],
   "source": [
    "#Forma incorrecta\n",
    "\n",
    "num1 = int(input('Ingrese su primer número: '))\n",
    "signo = input('Ingrese un signo: ')\n",
    "num2 = int(input('Ingrese su segundo número: '))\n",
    "\n",
    "################################################\n",
    "if signo == '+':\n",
    "    print('La suma es: ', num1 + num2)\n",
    "\n",
    "################################################\n",
    "\n",
    "if signo == '-':\n",
    "    print('La resta es: ', num1 - num2)\n",
    "    \n",
    "################################################   \n",
    "if signo == '*':\n",
    "    print('El producto es: ', num1 * num2)\n",
    "\n",
    "################################################\n",
    "    \n",
    "if signo == '/':\n",
    "    if num2 != 0:\n",
    "        print('El cosiente es: ', num1 / num2)\n",
    "        \n",
    "    else:\n",
    "        print('No se puede dividir entre 0')\n",
    "\n",
    "else:\n",
    "    print('Operador no valido')\n",
    "\n",
    "################################################"
   ]
  },
  {
   "cell_type": "markdown",
   "metadata": {},
   "source": [
    "### Ejercicio 7\n",
    "Vuelva a hacer el ejercicio 6 para que maneje números de punto flotante. (Formatee su salida hasta dos cifras decimales.)\n",
    "#### Solución:"
   ]
  },
  {
   "cell_type": "code",
   "execution_count": null,
   "metadata": {},
   "outputs": [],
   "source": []
  },
  {
   "cell_type": "markdown",
   "metadata": {},
   "source": [
    "### Ejercicio 8\n",
    "Un banco de la ciudad actualiza las cuentas de sus clientes al final de cada mes. El banco ofrece dos tipos de cuentas: de ahorros y cheques. Cada cliente debe mantener un saldo mínimo. Si el saldo de un cliente cae abajo del saldo mínimo, se impone un cargo por servicio de 10.00 dólares para cuentas de ahorros y de 25.00 dólares para cuentas de cheques. Si el saldo al final del mes es al menos el saldo mínimo, la cuenta gana interés como sigue:\n",
    "1. Las cuentas de ahorros reciben un interés de 4%.\n",
    "2. Las cuentas de cheques con saldos de hasta 5000 dólares más del saldo mínimo ganan un interés de 3%; de lo contrario, el interés es 5%.\n",
    "Escriba un programa que lea el número de cuenta del cliente (tipo int), el tipo de cuenta (tipo char s o S para ahorros, c o C para cheques), saldo mínimo que debe mantener la cuenta y saldo actual. Luego el programa debe dar salida al número de cuenta, tipo de cuenta, saldo actual y saldo nuevo o un mensaje de error apropiado. Pruebe su programa ejecutándolo cinco veces, utilizando los datos siguientes:  \n",
    "  \n",
    "    46728 S 1000 2700  \n",
    "    87324 C 1500 7689  \n",
    "    78873 S 1000 800  \n",
    "    89832 C 2000 3000  \n",
    "    98322 C 1000 750\n",
    "#### Solución:"
   ]
  },
  {
   "cell_type": "code",
   "execution_count": null,
   "metadata": {},
   "outputs": [],
   "source": []
  },
  {
   "cell_type": "markdown",
   "metadata": {},
   "source": [
    "### Ejercicio 9\n",
    "El número de renglones que se pueden imprimir en una hoja de papel depende del tamaño de la hoja, del tamaño (punto) de letra de cada carácter en un renglón, de si los renglones están a doble espacio o a espacio simple, del margen superior e inferior y de los márgenes izquierdo y derecho de la hoja. Suponga que todos los caracteres son del mismo tamaño y que todos los renglones son a espacio simple o a doble espacio. Observe que 1 pulg = 72 puntos. Además, suponga que los renglones se imprimen a lo largo del ancho de la hoja. Por ejemplo, si la longitud de la hoja es 11 pulgadas y el ancho es\n",
    "8.5 pulgadas, entonces la longitud máxima de un renglón es 8.5 pulgadas. Escriba un programa que calcule el número tanto de caracteres en un renglón como de renglones que se pueden imprimir en una hoja con base en la entrada siguiente del usuario:\n",
    "1. La longitud y el ancho, en pulgadas, de la hoja.\n",
    "2. Los márgenes superior, inferior, izquierdo y derecho.\n",
    "3. El tamaño de punto de un renglón.\n",
    "4. Si los renglones son a doble espacio, entonces duplique el tamaño de punto de cada carácter.\n",
    "#### Solución:"
   ]
  },
  {
   "cell_type": "code",
   "execution_count": null,
   "metadata": {},
   "outputs": [],
   "source": []
  },
  {
   "cell_type": "markdown",
   "metadata": {},
   "source": [
    "### Ejercicio 10\n",
    "Usted tiene varias fotografías de tamaños diferentes que le gustaría enmarcar. Una tienda local de enmarcado de fotografías ofrece dos tipos de marco: regular y lujoso. Los marcos están disponibles en color blanco y se pueden ordenar en cualquier color que desee el cliente. Suponga que cada marco tiene 1 pulgada de ancho. El costo por pintar el marco es 0.10 de dólar por pulgada. El costo de un marco regular es 0.15 de dólar por pulgada y el de un marco lujoso es 0.25 de dólar por pulgada. El costo de poner un\n",
    "cartón detrás de la fotografía es 0.02 de dólar por pulgada cuadrada y el de poner vidrio sobre la fotografía es 0.07 de dólar por pulgada cuadrada. El cliente también puede elegir poner coronas en las esquinas, lo que cuesta 0.35 de dólar cada una. Escriba un\n",
    "programa que invite al usuario a ingresar la siguiente información y luego que dé salida al costo de enmarcar la fotografía:\n",
    "1. La longitud y el ancho, en pulgadas, de la fotografía. \n",
    "2. El tipo de marco\n",
    "3. La elección del cliente del color para el marco.\n",
    "4. Si el usuario quiere agregar coronas, entonces el número de coronas.\n",
    "#### Solución:\n"
   ]
  },
  {
   "cell_type": "code",
   "execution_count": null,
   "metadata": {},
   "outputs": [],
   "source": []
  },
  {
   "cell_type": "markdown",
   "metadata": {},
   "source": [
    "#### Ejercicio 11:\n",
    " Samantha y Vikas consideran comprar una casa en un nuevo desarrollo habitacional.\n",
    "Después de ver varios modelos, los tres que les gustan son el colonial, de entrada dividida y de una planta. El constructor les dio el precio base y el área terminada en pies cuadrados de los tres modelos. Ellos quieren saber el precio por pie cuadrado de los tres modelos y el que tiene menor precio por pie cuadrado. Escriba un programa que acepte como entrada el precio base y el área terminada en pies cuadrados de los tres modelos.El programa debe dar salida al precio por pie cuadrado de los tres modelos y que tiene el menor precio por pie cuadrado.\n",
    "#### Solución: "
   ]
  },
  {
   "cell_type": "code",
   "execution_count": null,
   "metadata": {},
   "outputs": [],
   "source": []
  },
  {
   "cell_type": "markdown",
   "metadata": {},
   "source": [
    "### Ejercicio 12: \n",
    "Una manera para determinar qué tan saludable está una persona es midiendo su grasa corporal. Las fórmulas para determinar la grasa corporal para hombres y mujeres son las siguientes: \n",
    "Fórmula de la grasa corporal para mujeres:  \n",
    "        A1 = (Peso corporal  0.732) + 8.987\n",
    "        A2 = Medida de la muñeca (en el punto más amplio) / 3.140  \n",
    "        A3 = Medida de la cintura (en el ombligo)  0.157  \n",
    "        A4 = Medida de la cadera (en el punto más amplio)  0.249  \n",
    "        A5 = Medida del antebrazo (en el punto más amplio)  0.434  \n",
    "            B = A1 + A2 – A3 – A4 + A5  \n",
    "        Grasa corporal = peso corporal – B  \n",
    "        Porcentaje de grasa corporal = grasa corporal  100 / peso corporal \n",
    "Fórmula de la grasa corporal para hombres:  \n",
    "        A1 = (Peso corporal  1.082) + 94.42  \n",
    "        A2 = Medida de la cintura  4.15  \n",
    "        B = A1 – A2  \n",
    "        Grasa corporal = peso corporal – B  \n",
    "        Porcentaje de grasa corporal = grasa corporal  100 / peso corporal  \n",
    "Escriba un programa para calcular la grasa corporal de una persona.\n",
    "#### Solución:"
   ]
  },
  {
   "cell_type": "code",
   "execution_count": null,
   "metadata": {},
   "outputs": [],
   "source": []
  }
 ],
 "metadata": {
  "kernelspec": {
   "display_name": "Python 3",
   "language": "python",
   "name": "python3"
  },
  "language_info": {
   "codemirror_mode": {
    "name": "ipython",
    "version": 3
   },
   "file_extension": ".py",
   "mimetype": "text/x-python",
   "name": "python",
   "nbconvert_exporter": "python",
   "pygments_lexer": "ipython3",
   "version": "3.8.3"
  }
 },
 "nbformat": 4,
 "nbformat_minor": 2
}
