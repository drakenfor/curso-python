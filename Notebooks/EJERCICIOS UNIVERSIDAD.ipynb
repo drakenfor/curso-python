{
 "cells": [
  {
   "cell_type": "code",
   "execution_count": 9,
   "metadata": {},
   "outputs": [],
   "source": [
    "#Función suma"
   ]
  },
  {
   "cell_type": "code",
   "execution_count": 80,
   "metadata": {},
   "outputs": [],
   "source": [
    "#Triangulo de pítagoras\n",
    "def cal_hipotenusa(cateto_a, cateto_b):\n",
    "    c = (cateto_a**2 + cateto_b**2)**0.5\n",
    "    return c"
   ]
  },
  {
   "cell_type": "code",
   "execution_count": 81,
   "metadata": {},
   "outputs": [
    {
     "name": "stdout",
     "output_type": "stream",
     "text": [
      "5.0\n"
     ]
    }
   ],
   "source": [
    "valor_hipotenusa = cal_hipotenusa(4, 3)\n",
    "print(valor_hipotenusa)"
   ]
  },
  {
   "cell_type": "code",
   "execution_count": 90,
   "metadata": {},
   "outputs": [],
   "source": [
    "#Suma de vectores\n",
    "def sum_vectors(vec1, vec2):\n",
    "    r_x = vec1[0] + vec2[0]\n",
    "    r_y = vec1[1] + vec2[1]\n",
    "    return [r_x, r_y]"
   ]
  },
  {
   "cell_type": "code",
   "execution_count": 100,
   "metadata": {},
   "outputs": [],
   "source": [
    "#Producto punto\n",
    "def point_product(vec1, vec2):\n",
    "    return vec1[0]*vec2[0] + vec1[1]*vec2[1]"
   ]
  },
  {
   "cell_type": "code",
   "execution_count": 102,
   "metadata": {},
   "outputs": [],
   "source": [
    "#Escalar por vector\n",
    "def escalar_vec(esc, vec):\n",
    "    return [esc*vec[0],  esc*vec[1]]"
   ]
  },
  {
   "cell_type": "code",
   "execution_count": 104,
   "metadata": {},
   "outputs": [],
   "source": [
    "#Modulo de un vector\n",
    "def vec_modulo(vec):\n",
    "    return point_product(vec, vec)**0.5"
   ]
  },
  {
   "cell_type": "code",
   "execution_count": 98,
   "metadata": {},
   "outputs": [],
   "source": [
    "u = (1, 2)\n",
    "v = (4, 5)\n",
    "a = 14"
   ]
  },
  {
   "cell_type": "code",
   "execution_count": 91,
   "metadata": {},
   "outputs": [
    {
     "data": {
      "text/plain": [
       "[5, 7]"
      ]
     },
     "execution_count": 91,
     "metadata": {},
     "output_type": "execute_result"
    }
   ],
   "source": [
    "r = sum_vectors(u, v)\n",
    "r"
   ]
  },
  {
   "cell_type": "code",
   "execution_count": 93,
   "metadata": {},
   "outputs": [
    {
     "data": {
      "text/plain": [
       "[8, 8]"
      ]
     },
     "execution_count": 93,
     "metadata": {},
     "output_type": "execute_result"
    }
   ],
   "source": [
    "sum_vectors((3,2), (5,6))"
   ]
  },
  {
   "cell_type": "code",
   "execution_count": 101,
   "metadata": {},
   "outputs": [
    {
     "data": {
      "text/plain": [
       "14"
      ]
     },
     "execution_count": 101,
     "metadata": {},
     "output_type": "execute_result"
    }
   ],
   "source": [
    "point_product(u, v)"
   ]
  },
  {
   "cell_type": "code",
   "execution_count": 103,
   "metadata": {},
   "outputs": [
    {
     "data": {
      "text/plain": [
       "[4, 8]"
      ]
     },
     "execution_count": 103,
     "metadata": {},
     "output_type": "execute_result"
    }
   ],
   "source": [
    "escalar_vec(4,u)"
   ]
  },
  {
   "cell_type": "code",
   "execution_count": 105,
   "metadata": {},
   "outputs": [
    {
     "data": {
      "text/plain": [
       "5.0"
      ]
     },
     "execution_count": 105,
     "metadata": {},
     "output_type": "execute_result"
    }
   ],
   "source": [
    "vec_modulo([4, 3])"
   ]
  },
  {
   "cell_type": "code",
   "execution_count": null,
   "metadata": {},
   "outputs": [
    {
     "name": "stdout",
     "output_type": "stream",
     "text": [
      "Ingrese las cordenadas, ejem: 1.2, 6\n"
     ]
    }
   ],
   "source": [
    "#Resolución del ejercicio\n",
    "print('Ingrese las cordenadas, ejem: 1.2, 6')\n",
    "\n",
    "point_string = input('Ingrese el punto a: ')\n",
    "p_x = point_string.split(', ')[0]\n",
    "p_y = point_string.split(', ')[1]\n",
    "point_a = [float(p_x), float(p_y)]\n",
    "print(point_a)\n",
    "\n",
    "point_string = input('Ingrese el punto a: ')\n",
    "p_x = point_string.split(', ')[0]\n",
    "p_y = point_string.split(', ')[1]\n",
    "point_b = [float(p_x), float(p_y)]\n",
    "print(point_b)\n",
    "\n",
    "point_string = input('Ingrese el punto a: ')\n",
    "p_x = point_string.split(', ')[0]\n",
    "p_y = point_string.split(', ')[1]\n",
    "point_c = [float(p_x), float(p_y)]\n",
    "print(point_b)"
   ]
  },
  {
   "cell_type": "code",
   "execution_count": 9,
   "metadata": {},
   "outputs": [
    {
     "data": {
      "text/plain": [
       "['juan', 'persona#juanita#juanito', 'pedro', 'sandra']"
      ]
     },
     "execution_count": 9,
     "metadata": {},
     "output_type": "execute_result"
    }
   ],
   "source": [
    "cadena = 'juan$persona#juanita#juanito$pedro$sandra'\n",
    "cadena.split('$')"
   ]
  }
 ],
 "metadata": {
  "kernelspec": {
   "display_name": "Python 3",
   "language": "python",
   "name": "python3"
  },
  "language_info": {
   "codemirror_mode": {
    "name": "ipython",
    "version": 3
   },
   "file_extension": ".py",
   "mimetype": "text/x-python",
   "name": "python",
   "nbconvert_exporter": "python",
   "pygments_lexer": "ipython3",
   "version": "3.8.3"
  }
 },
 "nbformat": 4,
 "nbformat_minor": 4
}
