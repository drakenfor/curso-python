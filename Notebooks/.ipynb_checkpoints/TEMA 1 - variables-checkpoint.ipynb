{
 "cells": [
  {
   "cell_type": "markdown",
   "metadata": {},
   "source": [
    "# TEMA 1: Variables"
   ]
  },
  {
   "cell_type": "markdown",
   "metadata": {},
   "source": [
    "# I. Datos básicos"
   ]
  },
  {
   "cell_type": "markdown",
   "metadata": {},
   "source": [
    "## 1. Strings (str)\n",
    "Son cades de texto"
   ]
  },
  {
   "cell_type": "code",
   "execution_count": 8,
   "metadata": {},
   "outputs": [],
   "source": [
    "#Declarando mis strings\n",
    "mi_string = 'Mi primer strig'\n",
    "mi_string_numero = '1'"
   ]
  },
  {
   "cell_type": "markdown",
   "metadata": {},
   "source": [
    "### 1.1 Imprimir Strings"
   ]
  },
  {
   "cell_type": "code",
   "execution_count": 7,
   "metadata": {},
   "outputs": [
    {
     "name": "stdout",
     "output_type": "stream",
     "text": [
      "Mi primer strig\n",
      "1\n"
     ]
    }
   ],
   "source": [
    "print(mi_string)\n",
    "print(mi_string_numero)"
   ]
  },
  {
   "cell_type": "markdown",
   "metadata": {},
   "source": [
    "### 1.2  Concatener strings\n",
    "(sumar strings)"
   ]
  },
  {
   "cell_type": "code",
   "execution_count": 14,
   "metadata": {},
   "outputs": [
    {
     "name": "stdout",
     "output_type": "stream",
     "text": [
      "Robert Torres 5\n"
     ]
    }
   ],
   "source": [
    "nombre = 'Robert'\n",
    "apellido = 'Torres'\n",
    "nombre_completo = nombre + ' ' + apellido + ' 5'\n",
    "print(nombre_completo)\n"
   ]
  },
  {
   "cell_type": "markdown",
   "metadata": {},
   "source": [
    "## 2. Enteros (int)"
   ]
  },
  {
   "cell_type": "code",
   "execution_count": 19,
   "metadata": {},
   "outputs": [],
   "source": [
    "# Declarando tipos de datos enteros\n",
    "num1 = 6\n",
    "num2 = 8"
   ]
  },
  {
   "cell_type": "markdown",
   "metadata": {},
   "source": [
    "### 2.1 Operaciones aritmeticas"
   ]
  },
  {
   "cell_type": "code",
   "execution_count": 36,
   "metadata": {},
   "outputs": [
    {
     "name": "stdout",
     "output_type": "stream",
     "text": [
      "14\n",
      "-2\n",
      "48\n",
      "0.75\n",
      "16\n",
      "3.0\n"
     ]
    }
   ],
   "source": [
    "# Suma\n",
    "resultado = num1 + num2\n",
    "print(resultado)\n",
    "\n",
    "# resta\n",
    "resultado = num1 - num2\n",
    "print(resultado)\n",
    "\n",
    "# Multiplicar\n",
    "resultado = num1 * num2\n",
    "print(resultado)\n",
    "\n",
    "# dividir\n",
    "resultado = num1 / num2\n",
    "print(resultado)\n",
    "\n",
    "#Potencia\n",
    "resultado = 2 ** 4\n",
    "print(resultado)\n",
    "\n",
    "#Raiz\n",
    "resultado = 9 ** 0.5\n",
    "print(resultado)"
   ]
  },
  {
   "cell_type": "markdown",
   "metadata": {},
   "source": [
    "## 3. Floats (float)\n",
    "Son variables de tipo decimal o que pertenecen a los reales"
   ]
  },
  {
   "cell_type": "code",
   "execution_count": 37,
   "metadata": {},
   "outputs": [],
   "source": [
    "# Declarando desimales\n",
    "decimal1 = 3.5\n",
    "decimal2 = 4.6"
   ]
  },
  {
   "cell_type": "markdown",
   "metadata": {},
   "source": [
    "### 3.1 Operaciones aritmitas\n",
    "(Tarea: hacer lo de enteros) "
   ]
  },
  {
   "cell_type": "markdown",
   "metadata": {},
   "source": [
    "### 3.2 Redondeo"
   ]
  },
  {
   "cell_type": "code",
   "execution_count": 53,
   "metadata": {},
   "outputs": [
    {
     "name": "stdout",
     "output_type": "stream",
     "text": [
      "1.414\n",
      "1.4142\n"
     ]
    }
   ],
   "source": [
    "numero = 2 ** 0.5\n",
    "numero_redondeado = round(numero, 3)\n",
    "print(numero_redondeado)\n",
    "\n",
    "# Si quiero que el numero redondeado se guarde en la misma variable\n",
    "numero = round(numero, 4)\n",
    "print(numero)"
   ]
  },
  {
   "cell_type": "markdown",
   "metadata": {},
   "source": [
    "## 4. Booleanos (bool)"
   ]
  },
  {
   "cell_type": "code",
   "execution_count": 66,
   "metadata": {},
   "outputs": [],
   "source": [
    "# Declarando variables de tipo bool\n",
    "bool1 = False\n",
    "bool2 = True\n",
    "\n",
    "p = True\n",
    "q = False\n",
    "r = True"
   ]
  },
  {
   "cell_type": "markdown",
   "metadata": {},
   "source": [
    "### 4.1 Operaciones lógicas"
   ]
  },
  {
   "cell_type": "code",
   "execution_count": 92,
   "metadata": {},
   "outputs": [
    {
     "name": "stdout",
     "output_type": "stream",
     "text": [
      "True\n",
      "False\n",
      "False\n",
      "True\n",
      "False\n",
      "True\n"
     ]
    }
   ],
   "source": [
    "# O (or)\n",
    "print(bool1 or bool2)\n",
    "print( False or False )\n",
    "\n",
    "# Y (and)\n",
    "print( bool1 and bool2 )\n",
    "print ( True and True )\n",
    "\n",
    "# Anidando\n",
    "print( p and q and r )\n",
    "print( p and q or r )"
   ]
  },
  {
   "cell_type": "markdown",
   "metadata": {},
   "source": [
    "### Tarea: probar lo siguiente\n",
    "* Operador de comparación == \n",
    "* Operador mayor que >\n",
    "* Operador menor que <\n",
    "* Operador mayor igual que => \n",
    "* Operador menor igual que <= \n",
    "* Operador difernte que != \n",
    "* Operador modulo % , me calcula el residuo\n",
    "\n",
    "Recuara que no neseariamente tiene que ser datos de tipo Bool"
   ]
  },
  {
   "cell_type": "code",
   "execution_count": 82,
   "metadata": {},
   "outputs": [
    {
     "data": {
      "text/plain": [
       "False"
      ]
     },
     "execution_count": 82,
     "metadata": {},
     "output_type": "execute_result"
    }
   ],
   "source": []
  },
  {
   "cell_type": "markdown",
   "metadata": {},
   "source": []
  },
  {
   "cell_type": "markdown",
   "metadata": {},
   "source": [
    "# II. Datos estructurados\n",
    "Son conjuntos de datos del mismo tipo o en casos especiales de diferentes tipos"
   ]
  },
  {
   "cell_type": "markdown",
   "metadata": {},
   "source": [
    "## 1. Listas\n",
    "llamados también Arreglos, Vectores\n"
   ]
  },
  {
   "cell_type": "code",
   "execution_count": null,
   "metadata": {},
   "outputs": [],
   "source": [
    "#               0       1         2         3\n",
    "personas = [ 'Juan', 'Pedro', 'Juanita', 'Lizeth' ]"
   ]
  }
 ],
 "metadata": {
  "kernelspec": {
   "display_name": "Python 3",
   "language": "python",
   "name": "python3"
  },
  "language_info": {
   "codemirror_mode": {
    "name": "ipython",
    "version": 3
   },
   "file_extension": ".py",
   "mimetype": "text/x-python",
   "name": "python",
   "nbconvert_exporter": "python",
   "pygments_lexer": "ipython3",
   "version": "3.8.3"
  }
 },
 "nbformat": 4,
 "nbformat_minor": 2
}
