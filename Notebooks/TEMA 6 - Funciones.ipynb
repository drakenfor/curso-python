{
 "cells": [
  {
   "cell_type": "markdown",
   "metadata": {},
   "source": [
    "# Funciones\n",
    "\n",
    "```python\n",
    "def name_function(arg1, arg2, ...):\n",
    "    # code\n",
    "    return variable\n",
    "```"
   ]
  },
  {
   "cell_type": "code",
   "execution_count": 8,
   "metadata": {},
   "outputs": [
    {
     "name": "stdout",
     "output_type": "stream",
     "text": [
      "2\n"
     ]
    }
   ],
   "source": [
    "n = -2\n",
    "\n",
    "if n >= 0:\n",
    "    print(n)\n",
    "else:\n",
    "    print(-n)\n",
    "    \n",
    "# Creando una funciones sin parametros\n",
    "def imprimir_hola():\n",
    "    print('Hola mundo')"
   ]
  },
  {
   "cell_type": "code",
   "execution_count": 9,
   "metadata": {},
   "outputs": [
    {
     "name": "stdout",
     "output_type": "stream",
     "text": [
      "Hola mundo\n"
     ]
    }
   ],
   "source": [
    "imprimir_hola()"
   ]
  },
  {
   "cell_type": "code",
   "execution_count": 12,
   "metadata": {},
   "outputs": [
    {
     "name": "stdout",
     "output_type": "stream",
     "text": [
      "Hola Juan\n"
     ]
    }
   ],
   "source": [
    "# Creando una funcion que retorna algo\n",
    "def retornar_hola():\n",
    "    return 'Hola Juan'\n",
    "\n",
    "# LLamando a la funcion\n",
    "print(retornar_hola())"
   ]
  },
  {
   "cell_type": "code",
   "execution_count": 16,
   "metadata": {},
   "outputs": [
    {
     "name": "stdout",
     "output_type": "stream",
     "text": [
      "Hola Maria\n"
     ]
    }
   ],
   "source": [
    "# Creando una funcion con parametros\n",
    "def decir_hola(nombre):\n",
    "    print('Hola', nombre)\n",
    "\n",
    "# LLamando a la funcion\n",
    "decir_hola('Maria')"
   ]
  },
  {
   "cell_type": "code",
   "execution_count": 20,
   "metadata": {},
   "outputs": [
    {
     "name": "stdout",
     "output_type": "stream",
     "text": [
      "Hola Juanita\n"
     ]
    }
   ],
   "source": [
    "# Crando una funcion diciendo que tipo de parametros nescito y que tipo de dato retorna\n",
    "def decir_hola(nombre: str) -> str:\n",
    "    return \"Hola \" + nombre\n",
    "\n",
    "# Llamando a la funcion\n",
    "print(decir_hola('Juanita'))"
   ]
  },
  {
   "cell_type": "code",
   "execution_count": 25,
   "metadata": {},
   "outputs": [
    {
     "name": "stdout",
     "output_type": "stream",
     "text": [
      "Hola Anonimo\n"
     ]
    }
   ],
   "source": [
    "# Argumento arbitrario\n",
    "def decir_hola(nombre: str = 'Anonimo'):\n",
    "    print('Hola', nombre)\n",
    "\n",
    "# Llamando a la funcion\n",
    "decir_hola()"
   ]
  },
  {
   "cell_type": "markdown",
   "metadata": {},
   "source": [
    "### Ejemplo 1: \n",
    "Defina la funcion valor absoluto"
   ]
  },
  {
   "cell_type": "code",
   "execution_count": 30,
   "metadata": {},
   "outputs": [
    {
     "name": "stdout",
     "output_type": "stream",
     "text": [
      "5\n",
      "10\n",
      "El valor absoluto de -10 es:  None\n"
     ]
    }
   ],
   "source": [
    "def abs(n: float):\n",
    "    if n >= 0:\n",
    "        print(n)\n",
    "    else:\n",
    "        print(-n)\n",
    "\n",
    "\n",
    "# LLamdno a la funcion\n",
    "abs(-5)\n",
    "\n",
    "# Imprimiendo un mensaje que sea\n",
    "# -> el valor absuloto de -10 es 10\n",
    "print('El valor absoluto de -10 es: ', abs(-10))\n"
   ]
  },
  {
   "cell_type": "code",
   "execution_count": 40,
   "metadata": {},
   "outputs": [
    {
     "name": "stdout",
     "output_type": "stream",
     "text": [
      "El valor absoluto de -10 es: 10\n",
      "3 * | -4| =  12\n"
     ]
    }
   ],
   "source": [
    "# Para evitar el none, necesitamos en ves de imprimir el valor retornarlo\n",
    "def abs(n: float) -> float:\n",
    "    res = 0\n",
    "    \n",
    "    if n >= 0:\n",
    "        res = n\n",
    "    else:\n",
    "        res = -n\n",
    "\n",
    "    return res\n",
    "    \n",
    "print('El valor absoluto de -10 es:', abs(-10))\n",
    "print('3 * | -4| = ', 3 * abs(-4))"
   ]
  },
  {
   "cell_type": "code",
   "execution_count": 41,
   "metadata": {},
   "outputs": [
    {
     "name": "stdout",
     "output_type": "stream",
     "text": [
      "El balor absoluto de -10 es:  10\n"
     ]
    }
   ],
   "source": [
    "# Una forma mas elegante y reducida\n",
    "\n",
    "def abs(n: float) -> float:\n",
    "\n",
    "    if n >= 0:\n",
    "        return n\n",
    "    else:\n",
    "        return -n\n",
    "    \n",
    "print('El balor absoluto de -10 es: ', abs(-10))"
   ]
  },
  {
   "cell_type": "markdown",
   "metadata": {},
   "source": [
    "### Ejemplo 2: \n",
    "Crean una funcion que genere el factorial de un numero"
   ]
  },
  {
   "cell_type": "code",
   "execution_count": 1,
   "metadata": {},
   "outputs": [
    {
     "name": "stdout",
     "output_type": "stream",
     "text": [
      "El factorioal 0 es: 1\n"
     ]
    }
   ],
   "source": [
    "def fact(n: int) -> int:\n",
    "    result = 1\n",
    "\n",
    "    if n > 0:\n",
    "        for i in range(1, n + 1):\n",
    "            result *= i\n",
    " \n",
    "    return result\n",
    "\n",
    "\n",
    "n = int(input('Ingrese un numero: '))\n",
    "\n",
    "print(f'El factorioal {n} es: { fact(n) }')\n"
   ]
  },
  {
   "cell_type": "markdown",
   "metadata": {},
   "source": [
    "### Ejemplo 3:\n",
    "Crear una funcion para calcular el area de un triangulo dados su base y altura"
   ]
  },
  {
   "cell_type": "code",
   "execution_count": 3,
   "metadata": {},
   "outputs": [
    {
     "name": "stdout",
     "output_type": "stream",
     "text": [
      "El area de un triangulo de base 3 y altura 2 es:  3.0\n"
     ]
    }
   ],
   "source": [
    "def area(base: float, altura: float) -> float:\n",
    "    return base * altura / 2\n",
    "\n",
    "print('El area de un triangulo de base 3 y altura 2 es: ', area(3, 2))"
   ]
  },
  {
   "cell_type": "markdown",
   "metadata": {},
   "source": [
    "### Ejemplo 4:\n",
    "Creear una funcion para que calcule el seno de un angulo, recordar que\n",
    "$$ \\sin(x) = \\sum_{k=0}^\\infty \\frac{(-1)^k x^{2k + 1}}{(2k + 1)!}\n",
    " = \\frac{x}{1!} - \\frac{x^3}{3!} + \\frac{x^5}{5!} - \\frac{x^7}{7!} \\cdots $$"
   ]
  },
  {
   "cell_type": "code",
   "execution_count": 22,
   "metadata": {},
   "outputs": [
    {
     "name": "stdout",
     "output_type": "stream",
     "text": [
      "sin(0.0) = 0.0\n"
     ]
    }
   ],
   "source": [
    "def fact(n: int) -> int:\n",
    "    result = 1\n",
    "\n",
    "    if n > 0:\n",
    "        for i in range(1, n + 1):\n",
    "            result *= i\n",
    " \n",
    "    return result\n",
    "\n",
    "\n",
    "def sin(x: float) -> float:\n",
    "    sinx = 0\n",
    "\n",
    "    for k in range(15):\n",
    "        sinx += (((-1)**k) * (x**(2*k+1)))/fact(2*k + 1)\n",
    "    \n",
    "    return round(sinx, 15)\n",
    "\n",
    "\n",
    "# Llamando a la funcion\n",
    "angulo = float(input('Ingrese un angulo'))\n",
    "print(f'sin({angulo}) =', sin(angulo))\n",
    "\n",
    "\n"
   ]
  },
  {
   "cell_type": "markdown",
   "metadata": {},
   "source": [
    "### Ejemplo 5:\n",
    "Con la funcion anterior hacer una funcion para angulos sexagesimales"
   ]
  },
  {
   "cell_type": "code",
   "execution_count": 26,
   "metadata": {},
   "outputs": [
    {
     "name": "stdout",
     "output_type": "stream",
     "text": [
      "sin(30°) = 0.5\n"
     ]
    }
   ],
   "source": [
    "def sind(angle: float) -> float:\n",
    "    angle_rad = angle * 3.141592653589793/180\n",
    "\n",
    "    return sin(angle_rad)\n",
    "\n",
    "print(f'sin({30}°) = {sind(30)}')"
   ]
  }
 ],
 "metadata": {
  "kernelspec": {
   "display_name": "Python 3.10.5 64-bit",
   "language": "python",
   "name": "python3"
  },
  "language_info": {
   "codemirror_mode": {
    "name": "ipython",
    "version": 3
   },
   "file_extension": ".py",
   "mimetype": "text/x-python",
   "name": "python",
   "nbconvert_exporter": "python",
   "pygments_lexer": "ipython3",
   "version": "3.10.5"
  },
  "orig_nbformat": 4,
  "vscode": {
   "interpreter": {
    "hash": "3b9e2c1c1886a70341260ccdb5dca7eda20d5b2d2b81ccdfd5c7d91942664b3a"
   }
  }
 },
 "nbformat": 4,
 "nbformat_minor": 2
}
