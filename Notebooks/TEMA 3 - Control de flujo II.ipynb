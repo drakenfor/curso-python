{
 "cells": [
  {
   "cell_type": "markdown",
   "metadata": {},
   "source": [
    "# TEMA 3: Controll de flujo II: Bucles\n"
   ]
  },
  {
   "cell_type": "markdown",
   "metadata": {},
   "source": [
    "## 1. Bucle `for`\n"
   ]
  },
  {
   "cell_type": "code",
   "execution_count": 35,
   "metadata": {},
   "outputs": [
    {
     "name": "stdout",
     "output_type": "stream",
     "text": [
      "0\n",
      "1\n",
      "2\n",
      "3\n",
      "4\n",
      "5\n",
      "6\n",
      "7\n",
      "8\n",
      "9\n",
      "10\n",
      "11\n",
      "12\n",
      "13\n",
      "14\n",
      "15\n",
      "16\n",
      "17\n",
      "18\n",
      "19\n",
      "20\n"
     ]
    }
   ],
   "source": [
    "numberos = [0, 1, 2, 3, 4, 5, 6, 7, 8, 9, 10,\n",
    "            11, 12, 13, 14, 15, 16, 17, 18, 19, 20]\n",
    "\n",
    "# imprimeindo todos los numeros de la lista\n",
    "\n",
    "#    var        lista\n",
    "for number in numberos:\n",
    "    print(number)\n"
   ]
  },
  {
   "cell_type": "code",
   "execution_count": 36,
   "metadata": {},
   "outputs": [
    {
     "name": "stdout",
     "output_type": "stream",
     "text": [
      "a\n",
      "b\n",
      "c\n",
      "d\n",
      "e\n",
      "f\n",
      "g\n",
      "h\n",
      "i\n",
      "j\n",
      "k\n"
     ]
    }
   ],
   "source": [
    "letras = ['a', 'b', 'c', 'd', 'e', 'f', 'g', 'h', 'i', 'j', 'k']\n",
    "\n",
    "for letra in letras:\n",
    "    print(letra)\n"
   ]
  },
  {
   "cell_type": "markdown",
   "metadata": {},
   "source": [
    "### 1.1 La funcion `range()`\n",
    "\n",
    "Se puede pasar hasta 3 argumentos o parametros.\n",
    "\n",
    "A) Un solo parametros\n",
    "\n",
    "```python\n",
    "range(stop) -> [0, 1, 2, 3, ..., stop-1]\n",
    "```\n",
    "\n",
    "B) dos parametros\n",
    "\n",
    "```python\n",
    "range(start, stop) -> [start, start+1, start+2, ..., stop-1]\n",
    "```\n",
    "\n",
    "B) tres parametros\n",
    "\n",
    "```python\n",
    "range(start, stop, step) -> [start, start + step, start + 2*step, ..., stop - 2*step]\n",
    "```\n"
   ]
  },
  {
   "cell_type": "code",
   "execution_count": 37,
   "metadata": {},
   "outputs": [
    {
     "name": "stdout",
     "output_type": "stream",
     "text": [
      "Enteros positivos:  [0, 1, 2, 3, 4, 5, 6, 7, 8, 9]\n",
      "Numeros del 2 al 20:  [2, 3, 4, 5, 6, 7, 8, 9, 10, 11, 12, 13, 14, 15, 16, 17, 18, 19, 20]\n",
      "Numeros del 5 al 50 con saltos de 5:  [5, 12, 19, 26, 33, 40, 47]\n"
     ]
    }
   ],
   "source": [
    "\n",
    "enteros_positivos = range(10)\n",
    "# <- se pone list para ver los datos\n",
    "print('Enteros positivos: ', list(enteros_positivos))\n",
    "\n",
    "lista2 = range(2, 21)\n",
    "print('Numeros del 2 al 20: ', list(lista2))\n",
    "\n",
    "lista3 = range(5, 53, 7)\n",
    "print('Numeros del 5 al 50 con saltos de 5: ', list(lista3))\n"
   ]
  },
  {
   "cell_type": "markdown",
   "metadata": {},
   "source": [
    "## 1.2 Ejercicios\n"
   ]
  },
  {
   "cell_type": "markdown",
   "metadata": {},
   "source": [
    "#### Ejericio 1\n",
    "\n",
    "imprimir los numeros del 75 al 1000 uno por uno con un salto de 73.\n"
   ]
  },
  {
   "cell_type": "code",
   "execution_count": 38,
   "metadata": {},
   "outputs": [
    {
     "name": "stdout",
     "output_type": "stream",
     "text": [
      "75\n",
      "148\n",
      "221\n",
      "294\n",
      "367\n",
      "440\n",
      "513\n",
      "586\n",
      "659\n",
      "732\n",
      "805\n",
      "878\n",
      "951\n"
     ]
    }
   ],
   "source": [
    "numeros = range(75, 1000, 73)\n",
    "\n",
    "for num in numeros:\n",
    "    print(num)\n"
   ]
  },
  {
   "cell_type": "code",
   "execution_count": 39,
   "metadata": {},
   "outputs": [
    {
     "name": "stdout",
     "output_type": "stream",
     "text": [
      "75\n",
      "148\n",
      "221\n",
      "294\n",
      "367\n",
      "440\n",
      "513\n",
      "586\n",
      "659\n",
      "732\n",
      "805\n",
      "878\n",
      "951\n"
     ]
    }
   ],
   "source": [
    "for i in range(75, 1000, 73):\n",
    "    print(i)\n"
   ]
  },
  {
   "cell_type": "markdown",
   "metadata": {},
   "source": [
    "#### Ejercicio 2\n",
    "\n",
    "Imprimir los numeros del 1 al 10 y su cubo ejem:  \n",
    "1 --> 1  \n",
    "2 --> 8  \n",
    "3 --> 27  \n",
    " .  \n",
    " .  \n",
    " .  \n",
    "10 --> 1000\n"
   ]
  },
  {
   "cell_type": "code",
   "execution_count": 40,
   "metadata": {},
   "outputs": [
    {
     "name": "stdout",
     "output_type": "stream",
     "text": [
      "1 -> 1\n",
      "2 -> 8\n",
      "3 -> 27\n",
      "4 -> 64\n",
      "5 -> 125\n",
      "6 -> 216\n",
      "7 -> 343\n",
      "8 -> 512\n",
      "9 -> 729\n",
      "10 -> 1000\n"
     ]
    }
   ],
   "source": [
    "for i in range(1, 11):\n",
    "    print(i, '->', i**3)\n"
   ]
  },
  {
   "cell_type": "markdown",
   "metadata": {},
   "source": [
    "#### Ejercicio 3:\n",
    "\n",
    "Sumar los cuadrados (sin usar formula) del 7 a 100 dejando 3\n",
    "$$7^2 + 10^2 + 13^2 + ... + 100^2$$\n"
   ]
  },
  {
   "cell_type": "code",
   "execution_count": 41,
   "metadata": {},
   "outputs": [
    {
     "name": "stdout",
     "output_type": "stream",
     "text": [
      "La suma es:  116144\n"
     ]
    }
   ],
   "source": [
    "suma = 0\n",
    "\n",
    "for i in range(7, 101, 3):\n",
    "    suma += i**2\n",
    "\n",
    "print('La suma es: ', suma)\n"
   ]
  },
  {
   "cell_type": "markdown",
   "metadata": {},
   "source": [
    "### Ejercicio 4:\n",
    "\n",
    "imprimir el factorial de 15\n"
   ]
  },
  {
   "cell_type": "code",
   "execution_count": 42,
   "metadata": {},
   "outputs": [
    {
     "name": "stdout",
     "output_type": "stream",
     "text": [
      "El factorial es 15:  1307674368000\n"
     ]
    }
   ],
   "source": [
    "factorial = 1\n",
    "\n",
    "for i in range(1, 16):\n",
    "    factorial *= i\n",
    "\n",
    "print('El factorial es 15: ', factorial)\n"
   ]
  },
  {
   "cell_type": "markdown",
   "metadata": {},
   "source": [
    "#### Ejercicio 5:\n",
    "\n",
    "Imprimir la sucecion de fibonacci de los 50 primeros terminos\n",
    "sin saltos de linea.\n",
    "$$1, 1, 2, 3, 5, 8, 13, 21, ...$$\n"
   ]
  },
  {
   "cell_type": "code",
   "execution_count": 43,
   "metadata": {},
   "outputs": [
    {
     "name": "stdout",
     "output_type": "stream",
     "text": [
      "1, 1, 2, 3, 5, 8, 13, 21, 34, 55, 89, 144, 233, 377, 610, 987, 1597, 2584, 4181, 6765, 10946, 17711, 28657, 46368, 75025, 121393, 196418, 317811, 514229, 832040, 1346269, 2178309, 3524578, 5702887, 9227465, 14930352, 24157817, 39088169, 63245986, 102334155, 165580141, 267914296, 433494437, 701408733, 1134903170, 1836311903, 2971215073, 4807526976, 7778742049, 12586269025, "
     ]
    }
   ],
   "source": [
    "a, b = 1, 1\n",
    "\n",
    "print(a, end=', ')\n",
    "print(b, end=', ')\n",
    "\n",
    "for i in range(48):\n",
    "    c = a + b\n",
    "    print(c, end=', ')\n",
    "\n",
    "    a = b\n",
    "    b = c\n"
   ]
  },
  {
   "cell_type": "code",
   "execution_count": 44,
   "metadata": {},
   "outputs": [
    {
     "data": {
      "image/png": "[encoded data removed]",
      "text/plain": [
       "<Figure size 432x288 with 1 Axes>"
      ]
     },
     "metadata": {
      "needs_background": "light"
     },
     "output_type": "display_data"
    }
   ],
   "source": [
    "#            libreria       apodo\n",
    "import matplotlib.pyplot as plt\n",
    "\n",
    "# Grafico de funciones\n",
    "#           X               y\n",
    "plt.plot(range(1, 10), range(1, 10))  # <- Nube de puntos\n",
    "\n",
    "# Nube de puntos\n",
    "plt.scatter(range(1, 10), range(1, 10), color='red')  # <- Lineas\n",
    "\n",
    "# Titulo\n",
    "plt.title('Mi primer grafica')\n",
    "\n",
    "# Etiquetas de los ejes\n",
    "plt.xlabel('puntos en x')\n",
    "plt.ylabel('puntos en y')\n",
    "\n",
    "plt.show()\n"
   ]
  },
  {
   "cell_type": "code",
   "execution_count": 45,
   "metadata": {},
   "outputs": [
    {
     "data": {
      "text/plain": [
       "[<matplotlib.lines.Line2D at 0x1f257809b70>]"
      ]
     },
     "execution_count": 45,
     "metadata": {},
     "output_type": "execute_result"
    },
    {
     "data": {
      "image/png": "[encoded data removed]",
      "text/plain": [
       "<Figure size 432x288 with 1 Axes>"
      ]
     },
     "metadata": {
      "needs_background": "light"
     },
     "output_type": "display_data"
    }
   ],
   "source": [
    "# Grafico de una parabola\n",
    "x = [i/10 for i in range(-30, 31)]\n",
    "y = [i ** 2 for i in x]\n",
    "\n",
    "# plt.scatter(x, y)\n",
    "plt.plot(x, y, color='purple')\n"
   ]
  },
  {
   "cell_type": "code",
   "execution_count": 46,
   "metadata": {},
   "outputs": [
    {
     "data": {
      "image/png": "[encoded data removed]",
      "text/plain": [
       "<Figure size 432x288 with 1 Axes>"
      ]
     },
     "metadata": {
      "needs_background": "light"
     },
     "output_type": "display_data"
    }
   ],
   "source": [
    "import math\n",
    "y = [math.sin(i) for i in x]\n",
    "\n",
    "# plt.scatter(x, y)\n",
    "plt.plot(x, y)\n",
    "plt.show()\n"
   ]
  },
  {
   "cell_type": "markdown",
   "metadata": {},
   "source": [
    "## Buclie `Wile`\n"
   ]
  },
  {
   "cell_type": "markdown",
   "metadata": {},
   "source": [
    "```python\n",
    "while prepotition:\n",
    "    print('Se ejecuta mientras prepotition sea verdadero')\n",
    "\n",
    "```\n"
   ]
  },
  {
   "cell_type": "markdown",
   "metadata": {},
   "source": [
    "### Ejemplo 1.\n",
    "\n",
    "Imprimir los numeros del 1 al 10 uno por uno\n"
   ]
  },
  {
   "cell_type": "code",
   "execution_count": 47,
   "metadata": {},
   "outputs": [
    {
     "name": "stdout",
     "output_type": "stream",
     "text": [
      "8\n",
      "9\n",
      "10\n"
     ]
    }
   ],
   "source": [
    "numero = 8\n",
    "\n",
    "while numero <= 10:\n",
    "    print(numero)\n",
    "    numero += 1\n"
   ]
  },
  {
   "cell_type": "markdown",
   "metadata": {},
   "source": [
    "### Ejemplo 2:\n",
    "\n",
    "Imprimir los primeros 10 numeros impares\n"
   ]
  },
  {
   "cell_type": "code",
   "execution_count": 48,
   "metadata": {},
   "outputs": [
    {
     "name": "stdout",
     "output_type": "stream",
     "text": [
      "1\n",
      "3\n",
      "5\n",
      "7\n",
      "9\n",
      "11\n",
      "13\n",
      "15\n",
      "17\n",
      "19\n"
     ]
    }
   ],
   "source": [
    "numero = 1\n",
    "\n",
    "while (numero - 1)/2 + 1 <= 10:\n",
    "    print(numero)\n",
    "    numero += 2\n"
   ]
  },
  {
   "cell_type": "code",
   "execution_count": 49,
   "metadata": {},
   "outputs": [
    {
     "name": "stdout",
     "output_type": "stream",
     "text": [
      "1\n",
      "3\n",
      "5\n",
      "7\n",
      "9\n",
      "11\n",
      "13\n",
      "15\n",
      "17\n",
      "19\n"
     ]
    }
   ],
   "source": [
    "# Otra forma\n",
    "numero = 1\n",
    "count = 1\n",
    "\n",
    "while count <= 10:\n",
    "    print(numero)\n",
    "    numero += 2\n",
    "    count += 1\n"
   ]
  },
  {
   "cell_type": "markdown",
   "metadata": {},
   "source": [
    "### Ejemplo 3\n",
    "\n",
    "Pidir al usuario que ingrese su edad y el programa, debe imprimir si es menor de edad o mayor de edad,\n",
    "pero solo debe permitir el ingreso de edad entre 0 y 100 años, si el usuario ingresa una edad fuera de este rango, pedirle que lo ingrese de nuevo, hasta que ingrese una edad correcta.\n"
   ]
  },
  {
   "cell_type": "code",
   "execution_count": 54,
   "metadata": {},
   "outputs": [
    {
     "name": "stdout",
     "output_type": "stream",
     "text": [
      "Es usted menor de edad\n"
     ]
    }
   ],
   "source": [
    "edad = int(input('Ingrese la edad entre 0 y 100: '))\n",
    "\n",
    "while edad > 100 or edad < 0:\n",
    "    print('Edad no permitida')\n",
    "    edad = int(input('Ingese su edad nuevamente entre y 100: '))\n",
    "\n",
    "if edad >= 18:\n",
    "    print('Es usted mayor de edad')\n",
    "else:\n",
    "    print('Es usted menor de edad')\n"
   ]
  },
  {
   "cell_type": "markdown",
   "metadata": {},
   "source": [
    "### 3. Palabra reservada `break`\n",
    "\n",
    "Sirve para romper bucles"
   ]
  },
  {
   "cell_type": "markdown",
   "metadata": {},
   "source": [
    "### Ejemplo 1"
   ]
  },
  {
   "cell_type": "code",
   "execution_count": 3,
   "metadata": {},
   "outputs": [
    {
     "name": "stdout",
     "output_type": "stream",
     "text": [
      "1\n",
      "2\n",
      "3\n",
      "4\n"
     ]
    }
   ],
   "source": [
    "numero = 1\n",
    "\n",
    "while numero <= 100:\n",
    "    print(numero)\n",
    "    numero += 1\n",
    "\n",
    "    if numero == 5:\n",
    "        break # ! el bucle se rompe cuando numero es 5\n"
   ]
  },
  {
   "cell_type": "markdown",
   "metadata": {},
   "source": [
    "### Ejemplo 2:\n",
    "Imprimir los primeros 1000 numeros primos "
   ]
  },
  {
   "cell_type": "code",
   "execution_count": 16,
   "metadata": {},
   "outputs": [
    {
     "name": "stdout",
     "output_type": "stream",
     "text": [
      "2, 3, 5, 7, 11, 13, 17, 19, 23, 29, 31, 37, 41, 43, 47, 53, 59, 61, 67, 71, 73, 79, 83, 89, 97, 101, 103, 107, 109, 113, 127, 131, 137, 139, 149, 151, 157, 163, 167, 173, 179, 181, 191, 193, 197, 199, 211, 223, 227, 229, 233, 239, 241, 251, 257, 263, 269, 271, 277, 281, 283, 293, 307, 311, 313, 317, 331, 337, 347, 349, 353, 359, 367, 373, 379, 383, 389, 397, 401, 409, 419, 421, 431, 433, 439, 443, 449, 457, 461, 463, 467, 479, 487, 491, 499, 503, 509, 521, 523, 541, 547, 557, 563, 569, 571, 577, 587, 593, 599, 601, 607, 613, 617, 619, 631, 641, 643, 647, 653, 659, 661, 673, 677, 683, 691, 701, 709, 719, 727, 733, 739, 743, 751, 757, 761, 769, 773, 787, 797, 809, 811, 821, 823, 827, 829, 839, 853, 857, 859, 863, 877, 881, 883, 887, 907, 911, 919, 929, 937, 941, 947, 953, 967, 971, 977, 983, 991, 997, "
     ]
    }
   ],
   "source": [
    "for i in range(2, 1000):\n",
    "    es_primo = True # Se le conoce como bandera\n",
    "\n",
    "    for j in range(2, i):\n",
    "        if (i % j) == 0:\n",
    "            es_primo = False\n",
    "            break\n",
    "\n",
    "    if es_primo:\n",
    "        print(i, end=', ') \n"
   ]
  },
  {
   "cell_type": "markdown",
   "metadata": {},
   "source": [
    "## 4. Palabra reservada `Else`\n",
    "\n",
    "```python\n",
    "for i in range(n):\n",
    "    print(i)\n",
    "    if prepotition:\n",
    "        break\n",
    "else:\n",
    "    print('Me ejecuto siempre que el bucle no se rompa')\n",
    "```"
   ]
  },
  {
   "cell_type": "markdown",
   "metadata": {},
   "source": [
    "### Ejemplo 1\n",
    "Imprimir los numeros primos que se encuentran entre 0 y 1000"
   ]
  },
  {
   "cell_type": "code",
   "execution_count": 15,
   "metadata": {},
   "outputs": [
    {
     "name": "stdout",
     "output_type": "stream",
     "text": [
      "2, 3, 5, 7, 11, 13, 17, 19, 23, 29, 31, 37, 41, 43, 47, 53, 59, 61, 67, 71, 73, 79, 83, 89, 97, 101, 103, 107, 109, 113, 127, 131, 137, 139, 149, 151, 157, 163, 167, 173, 179, 181, 191, 193, 197, 199, 211, 223, 227, 229, 233, 239, 241, 251, 257, 263, 269, 271, 277, 281, 283, 293, 307, 311, 313, 317, 331, 337, 347, 349, 353, 359, 367, 373, 379, 383, 389, 397, 401, 409, 419, 421, 431, 433, 439, 443, 449, 457, 461, 463, 467, 479, 487, 491, 499, 503, 509, 521, 523, 541, 547, 557, 563, 569, 571, 577, 587, 593, 599, 601, 607, 613, 617, 619, 631, 641, 643, 647, 653, 659, 661, 673, 677, 683, 691, 701, 709, 719, 727, 733, 739, 743, 751, 757, 761, 769, 773, 787, 797, 809, 811, 821, 823, 827, 829, 839, 853, 857, 859, 863, 877, 881, 883, 887, 907, 911, 919, 929, 937, 941, 947, 953, 967, 971, 977, 983, 991, 997, "
     ]
    }
   ],
   "source": [
    "for i in range(2, 1000):\n",
    "    \n",
    "    for j in range(2, i):\n",
    "        if (i % j) == 0:\n",
    "            break\n",
    "    else:\n",
    "         print(i, end=', ')"
   ]
  }
 ],
 "metadata": {
  "kernelspec": {
   "display_name": "Python 3.10.5 64-bit",
   "language": "python",
   "name": "python3"
  },
  "language_info": {
   "codemirror_mode": {
    "name": "ipython",
    "version": 3
   },
   "file_extension": ".py",
   "mimetype": "text/x-python",
   "name": "python",
   "nbconvert_exporter": "python",
   "pygments_lexer": "ipython3",
   "version": "3.10.5"
  },
  "orig_nbformat": 4,
  "vscode": {
   "interpreter": {
    "hash": "3b9e2c1c1886a70341260ccdb5dca7eda20d5b2d2b81ccdfd5c7d91942664b3a"
   }
  }
 },
 "nbformat": 4,
 "nbformat_minor": 2
}
